{
 "cells": [
  {
   "cell_type": "markdown",
   "metadata": {},
   "source": []
  },
  {
   "cell_type": "markdown",
   "metadata": {},
   "source": [
    "### Introduction to Computer Science and Programming with Python, 2016"
   ]
  },
  {
   "cell_type": "markdown",
   "metadata": {},
   "source": [
    "### 5. Tuples, Lists, Ailiasing, Mutability, and Cloning\n",
    "#### Key Concepts\n",
    "##### Mutability (mutation) - tuples vs lists\n",
    "##### Functions can only return one object, but if it's a tuple, that's effectively multiple things\n",
    "##### Aliasing vs cloning- when you go x = y, you're creating an object that points to the same variables in memory. \n",
    "##### Iterating over lists and side effects"
   ]
  },
  {
   "cell_type": "code",
   "execution_count": 3,
   "metadata": {},
   "outputs": [
    {
     "name": "stdout",
     "output_type": "stream",
     "text": [
      "5 3\n"
     ]
    }
   ],
   "source": [
    "x = 3\n",
    "y = 5\n",
    "(x,y) = (y,x)\n",
    "print(x,y)"
   ]
  },
  {
   "cell_type": "code",
   "execution_count": 4,
   "metadata": {},
   "outputs": [
    {
     "name": "stdout",
     "output_type": "stream",
     "text": [
      "3\n"
     ]
    }
   ],
   "source": [
    "t = (\"poo\",3,2.1)\n",
    "print(t[1])"
   ]
  },
  {
   "cell_type": "code",
   "execution_count": 5,
   "metadata": {},
   "outputs": [
    {
     "name": "stdout",
     "output_type": "stream",
     "text": [
      "7\n",
      "[2, 'hi']\n",
      "[2, 'hi', 7]\n",
      "[2, 'hi', 7]\n"
     ]
    }
   ],
   "source": [
    "l = [2,\"hi\",7]\n",
    "print(l[2])\n",
    "# newList = l.pop()\n",
    "# print(newList)\n",
    "\n",
    "m = l[:]    # clone list\n",
    "n = l.copy()\n",
    "\n",
    "l.pop()\n",
    "print(l)\n",
    "print(m)\n",
    "print(n)"
   ]
  },
  {
   "cell_type": "code",
   "execution_count": 6,
   "metadata": {},
   "outputs": [
    {
     "name": "stdout",
     "output_type": "stream",
     "text": [
      "2\n",
      "[3, 'poo', 5]\n",
      "poo\n",
      "5\n",
      "[3, 5]\n",
      "[3, 5]\n",
      "try this instead!\n",
      "2\n",
      "<class 'int'>\n",
      "[3, 'poo', 5]\n",
      "3\n",
      "<class 'int'>\n",
      "['poo', 5]\n",
      "poo\n",
      "<class 'str'>\n",
      "5\n",
      "<class 'int'>\n",
      "['poo']\n",
      "['poo']\n"
     ]
    }
   ],
   "source": [
    "# Demonstrate Python's internal counter in for loops\n",
    "\n",
    "# remove everything from list except strings\n",
    "L = [2,3,\"poo\",5]\n",
    "passes = 0\n",
    "for l in L:\n",
    "    print(l)\n",
    "    if type(l) != str:\n",
    "        L.pop(passes)   # remove the leftmost element\n",
    "        print(L)\n",
    "    else: passes+=1\n",
    "print(L)\n",
    "\n",
    "# skips the 2nd element\n",
    "\n",
    "# instead use clone as iterable\n",
    "print(\"try this instead!\")\n",
    "L = [2,3,\"poo\",5]\n",
    "passes = 0\n",
    "for l in L[:]:\n",
    "    print(l)\n",
    "    print(type(l))\n",
    "    if type(l) != str:\n",
    "        L.pop(passes)\n",
    "        print(L)\n",
    "    else: passes+=1\n",
    "print(L)"
   ]
  },
  {
   "cell_type": "markdown",
   "metadata": {},
   "source": [
    "### 6. Recursion and Dictionaries\n",
    "#### Key Concepts\n",
    "##### Recursion - reducing a problem to a simpler problem, and so on, until you get to a base case you know how to solve - \"Decrease and conquer\". This stops the unwinding being infinite. \n",
    "##### Iteratation vs Recursion - with recursive there's no confusion about which instance of var ur using (local frame set up for each function call), and it's more intuitive.\n",
    "##### Why does it work? Induction."
   ]
  },
  {
   "cell_type": "code",
   "execution_count": 7,
   "metadata": {},
   "outputs": [
    {
     "name": "stdout",
     "output_type": "stream",
     "text": [
      "36\n"
     ]
    }
   ],
   "source": [
    "# a*b = a + a*(b-1)\n",
    "\n",
    "def mult(a,b):\n",
    "    if b==1:\n",
    "        return a\n",
    "    else:\n",
    "        return a + mult(a,b-1)\n",
    "\n",
    "print(mult(4,9))"
   ]
  },
  {
   "cell_type": "code",
   "execution_count": 8,
   "metadata": {},
   "outputs": [
    {
     "name": "stdout",
     "output_type": "stream",
     "text": [
      "120\n"
     ]
    }
   ],
   "source": [
    "# a! = 1*...*(a-1)*a\n",
    "# a! = (a-1)!*a\n",
    "\n",
    "def fact(a):\n",
    "    if a==1:\n",
    "        return 1\n",
    "    else:\n",
    "        return a*fact(a-1)\n",
    "\n",
    "print(fact(5))"
   ]
  },
  {
   "cell_type": "code",
   "execution_count": 9,
   "metadata": {},
   "outputs": [
    {
     "name": "stdout",
     "output_type": "stream",
     "text": [
      "Move ring from tower b to tower c\n",
      "Move ring from tower b to tower a\n",
      "Move ring from tower c to tower a\n",
      "Move ring from tower b to tower c\n",
      "Move ring from tower a to tower b\n",
      "Move ring from tower a to tower c\n",
      "Move ring from tower b to tower c\n",
      "Move ring from tower b to tower a\n",
      "Move ring from tower c to tower a\n",
      "Move ring from tower c to tower b\n",
      "Move ring from tower a to tower b\n",
      "Move ring from tower c to tower a\n",
      "Move ring from tower b to tower c\n",
      "Move ring from tower b to tower a\n",
      "Move ring from tower c to tower a\n"
     ]
    }
   ],
   "source": [
    "# Towers of Hanoi ( ^ = 'a' ^ = 'b' ^ = 'c')\n",
    "\n",
    "def move(fr,to):\n",
    "    print(\"Move ring from tower\", fr, \"to tower\", to)\n",
    "\n",
    "\n",
    "# n = 1\n",
    "\n",
    "# if n==1:\n",
    "#     # move(1,'b','c')   # redundant move\n",
    "#     move(1,'b','a') # move disc 1 from tower b to tower a\n",
    "\n",
    "# n = 2\n",
    "\n",
    "# if n==2:\n",
    "#     move(2,'b','c') # move disc 2 from tower b to tower c. Move stack of n-1 to c.\n",
    "#     move(1,'b','a') # move disc 1 to from tower b to tower a. Move bottom disc to a.\n",
    "#     move(2,'c','a') # move stack of n-1 to a.\n",
    "\n",
    "# if n==3:\n",
    "#     move(3,'b','a') ##\n",
    "#     move(2,'b','c') #\n",
    "#     move(3,'a','c') #\n",
    "#     move(1,'b','a') ##\n",
    "#     move(3,'c','b') #\n",
    "#     move(2,'c','a') #\n",
    "#     move(3,'b','a') ##\n",
    "\n",
    "def towers(n,fr,to,sp):\n",
    "    \"\"\" n: number in stack\n",
    "        f: from this tower \n",
    "        t: to this tower\n",
    "        s: via this spare tower\"\"\"\n",
    "    if n==1:\n",
    "        move(fr,to)\n",
    "    else:\n",
    "        towers(n-1,fr,sp,to)\n",
    "        towers(1,fr,to,sp)\n",
    "        towers(n-1,sp,to,fr)\n",
    "\n",
    "towers(4,'b','a','c')"
   ]
  },
  {
   "cell_type": "code",
   "execution_count": 10,
   "metadata": {},
   "outputs": [
    {
     "data": {
      "text/plain": [
       "233"
      ]
     },
     "execution_count": 10,
     "metadata": {},
     "output_type": "execute_result"
    }
   ],
   "source": [
    "# Fibonacci\n",
    "\n",
    "def fibonacci(n):\n",
    "    if n==0 or n==1:\n",
    "        return 1\n",
    "    else:\n",
    "        return fibonacci(n-2) + fibonacci(n-1)\n",
    "\n",
    "# fibonacci(0)\n",
    "# fibonacci(1)\n",
    "fibonacci(12)\n"
   ]
  },
  {
   "cell_type": "code",
   "execution_count": 11,
   "metadata": {},
   "outputs": [
    {
     "data": {
      "text/plain": [
       "5"
      ]
     },
     "execution_count": 11,
     "metadata": {},
     "output_type": "execute_result"
    }
   ],
   "source": [
    "# Fibonacci, with memorisation\n",
    "\n",
    "def fibonacci(n):\n",
    "    fibs = {1:1,2:1}\n",
    "    if n in fibs:\n",
    "        return fibs[n]\n",
    "    else:\n",
    "        ans = fibonacci(n-2) + fibonacci(n-1)   \n",
    "        fibs[n] = ans   # store calced values in a dict to reduce computation\n",
    "        return ans\n",
    "\n",
    "# fibonacci(0)\n",
    "# fibonacci(1)\n",
    "fibonacci(5)\n",
    "\n",
    "# fibs = {1:1,2:1}\n",
    "# print(fibs[1])\n"
   ]
  },
  {
   "cell_type": "code",
   "execution_count": 12,
   "metadata": {},
   "outputs": [
    {
     "name": "stdout",
     "output_type": "stream",
     "text": [
      "aa\n",
      "bcdefedcb\n",
      "bb\n",
      "cdefedc\n",
      "cc\n",
      "defed\n",
      "dd\n",
      "efe\n",
      "ee\n",
      "f\n",
      "Reached base case\n",
      "ff\n"
     ]
    },
    {
     "data": {
      "text/plain": [
       "True"
      ]
     },
     "execution_count": 12,
     "metadata": {},
     "output_type": "execute_result"
    }
   ],
   "source": [
    "def isPalindrome(s):\n",
    "    if len(s)==1 or len(s)==2:\n",
    "        print(\"Reached base case\")\n",
    "        print(s[0]+s[-1])\n",
    "        return s[0]==s[-1]\n",
    "    else:\n",
    "        print(s[0]+s[-1])\n",
    "        print(s[1:-1])\n",
    "        return s[0]==s[-1] and isPalindrome(s[1:-1])\n",
    "    \n",
    "isPalindrome(\"abcdefedcba\")\n"
   ]
  },
  {
   "cell_type": "markdown",
   "metadata": {},
   "source": [
    "### 5. Testing, Debugging, Exceptions, and Assertions\n",
    "#### Testing and Debugging\n",
    "###### Unit testing, regression testing, integration testing\n",
    "###### Intuition: think up inputs/outputs based on natural problem partitions \n",
    "###### Black box: without looking at code, based on spec only\n",
    "###### Glass box: use code to design test cases to go down every specific path of the code (\"path complete\"). For branches - exercise all branches; for for loops - entered once, entered multiple times, not entered; for while loops - same as for loops but do every exit case. Also need to test all boundary conditions.\n",
    "###### Bisection method - put a print statement halfway thru program\n",
    "###### Don't ask what's wrong, ask how the program produced the unexpected result! Use the scientific method.\n",
    "##### Defensive programming (deal with errors in situ)\n",
    "###### Catch specific types of expected fuction input error exceptions, using try except. This can be better than else statements, since the bug won't propogate and require checks along the way. Finally runs at the end of a branch no matter what. Can also raise your own expections. "
   ]
  },
  {
   "cell_type": "markdown",
   "metadata": {},
   "source": []
  },
  {
   "cell_type": "markdown",
   "metadata": {},
   "source": [
    "### 8. OOP\n",
    "#### \"Special\" methods e.g. __init__, __str__ alter the default method that apply to all python objects"
   ]
  },
  {
   "cell_type": "code",
   "execution_count": 13,
   "metadata": {},
   "outputs": [
    {
     "name": "stdout",
     "output_type": "stream",
     "text": [
      "driver\n",
      "putter\n",
      "3\n",
      "2\n",
      "3\n",
      "fairway driver\n",
      "Instance of class Disc - a fairway driver with the following flight stats: \n",
      "         speed: 7.5\n",
      "         glide: 5.5\n",
      "         turn: -0.5\n",
      "         fade: 1.5\n",
      "\n",
      "poop\n"
     ]
    }
   ],
   "source": [
    "import copy\n",
    "\n",
    "class Disc(object):\n",
    "    def __init__(self,speed,glide,turn,fade):\n",
    "        self.speed = speed\n",
    "        self.glide = glide\n",
    "        self.turn = turn\n",
    "        self.fade = fade \n",
    "        self.stats = [speed,glide,turn,fade]\n",
    "        self.classify()\n",
    "    def classify(self):\n",
    "        if self.speed >= 10: type = \"driver\"\n",
    "        elif self.speed >5: type = \"fairway driver\"\n",
    "        elif self.speed >3: type = \"midrange\"\n",
    "        else: type = \"putter\"\n",
    "        print(type)\n",
    "        self.type = type\n",
    "    def __mul__(self,other):    # __sub__, __lt__, __print__\n",
    "        assert(isinstance(other,Disc))\n",
    "        newStats = [0.5*(self.stats[i]+other.stats[i]) for i in range(len(self.stats))]\n",
    "        (s,g,t,f) = tuple(newStats)\n",
    "        return Disc(s,g,t,f)\n",
    "    def get_speed(self): # \"getter\"\n",
    "        return self.speed\n",
    "    def set_speed(self,newspeed): # \"setter\"\n",
    "        self.speed = newspeed\n",
    "    def __str__(self):\n",
    "        return \"Instance of class Disc - a \" + self.type + \" with the following flight stats: \\n \\\n",
    "        speed: \" + str(self.speed) + \"\\n \\\n",
    "        glide: \" + str(self.glide) + \"\\n \\\n",
    "        turn: \" + str(self.turn) + \"\\n \\\n",
    "        fade: \" + str(self.fade) + \"\\n\"\n",
    "        \n",
    "\n",
    "punisher = Disc(12,7,-1,1)\n",
    "zone = Disc(3,4,0,2)\n",
    "\n",
    "print(zone.get_speed())\n",
    "\n",
    "rhyno = copy.copy(zone)\n",
    "rhyno.set_speed(2)\n",
    "print(rhyno.get_speed())\n",
    "print(zone.get_speed())\n",
    "\n",
    "mysteryDisc = punisher*zone\n",
    "print(mysteryDisc)\n",
    "print(\"poop\")"
   ]
  },
  {
   "cell_type": "code",
   "execution_count": 14,
   "metadata": {},
   "outputs": [
    {
     "name": "stdout",
     "output_type": "stream",
     "text": [
      "[19, 6, 4, 2]\n"
     ]
    }
   ],
   "source": [
    "t1 = (12,3,2,1)\n",
    "t2 = (7,3,2,1)\n",
    "ans = map(sum,zip(t1,t2))\n",
    "print(list(ans))"
   ]
  },
  {
   "cell_type": "markdown",
   "metadata": {},
   "source": [
    "### 9. Python Classes and Inheritance\n",
    "#### Crux\n",
    "##### Why use getters and setters instead of directly accessing attributes? Abstraction"
   ]
  },
  {
   "cell_type": "code",
   "execution_count": 15,
   "metadata": {},
   "outputs": [
    {
     "name": "stdout",
     "output_type": "stream",
     "text": [
      "hello\n",
      "hello\n",
      "math\n",
      "Animal with name None and age 12\n",
      "Fluffy is rabbit number 1\n",
      "Bouncy is rabbit number 2\n",
      "Sleepy is rabbit number 3\n"
     ]
    }
   ],
   "source": [
    "# inheritance and heirarchies\n",
    "\n",
    "# Animal < Human, Cat, Rabbit\n",
    "\n",
    "# superclass/parent (inherits from basic Python object)\n",
    "\n",
    "class Animal(object):\n",
    "    def __init__(self,age):\n",
    "        self.age = age\n",
    "        self.name = None\n",
    "    def get_age(self):\n",
    "        return self.age\n",
    "    def get_name(self):\n",
    "        return self.name\n",
    "    def set_age(self,newage):\n",
    "        self.age = newage\n",
    "    def set_name(self,newname = \"\"):\n",
    "        self.name = newname\n",
    "    def __str__(self):\n",
    "        return \"Animal with name \" + str(self.name) + \" and age \" + str(self.age) \n",
    "\n",
    "# subclass/child \n",
    "class Human(Animal):\n",
    "    # can add new functionality\n",
    "    def speak(self):\n",
    "        print(\"hello\")\n",
    "    # can overwrite functionality\n",
    "\n",
    "# class Cat(Animal):\n",
    "\n",
    "class Student(Human):\n",
    "    def __init__(self,age):     # overwrites parent's init fn\n",
    "        Animal.__init__(self,age) # can effectively alter parent's init fn like so\n",
    "        self.major = None\n",
    "    def set_major(self,newmajor = \"\"):\n",
    "        self.major = newmajor\n",
    "    def get_major(self):\n",
    "        return self.major\n",
    "\n",
    "class Rabbit(Animal):\n",
    "    tag = 1 # 'class variable' is shared var to help distinguish between instances of Rabbit class\n",
    "    def __init__(self, age, parent1 = None, parent2 = None):\n",
    "        Animal.__init__(self,age)\n",
    "        self.parent1 = parent1\n",
    "        self.parent2 = parent2\n",
    "        self.rid = Rabbit.tag   # set rabbit ID to class variable\n",
    "        Rabbit.tag += 1         # increment in prep for next rabbit\n",
    "    def get_rid(self):\n",
    "        return self.rid\n",
    "    def __add__(self,other):\n",
    "        return Rabbit(0,self,other)\n",
    "\n",
    "\n",
    "me = Human(24)\n",
    "me.set_name = \"Matt\"\n",
    "me.speak()\n",
    "\n",
    "nerd = Student(12)\n",
    "nerd.speak()\n",
    "nerd.set_major(\"math\")\n",
    "print(nerd.get_major())\n",
    "print(nerd)\n",
    "\n",
    "fluffy = Rabbit(2)\n",
    "print(\"Fluffy is rabbit number \" + str(fluffy.get_rid()))\n",
    "bouncy = Rabbit(1)\n",
    "print(\"Bouncy is rabbit number \" + str(bouncy.get_rid()))\n",
    "# Can I somehow initialise a rabbit with 2 existing rabbits?\n",
    "sleepy = fluffy + bouncy\n",
    "print(\"Sleepy is rabbit number \" + str(sleepy.get_rid()))"
   ]
  },
  {
   "cell_type": "markdown",
   "metadata": {},
   "source": [
    "### 10./11./12. Efficiency\n",
    "#### time complexity aka order of growth aka big 0 notation\n",
    "##### time < count ops assuming cst time < scale based on input size\n",
    "##### think about structure before writing algorithm\n",
    "##### algorithms that:\n",
    "###### reduce size by 1 each time are linear\n",
    "###### reduce size by a fixed proportion e.g. 1/2 each time are log\n",
    "###### grow by a fixed amount are quadratic\n",
    "###### grow by a fixed proportion are exponential\n",
    "###### log-linear?"
   ]
  },
  {
   "cell_type": "code",
   "execution_count": 16,
   "metadata": {},
   "outputs": [],
   "source": [
    "# does not need to be sorted! \n",
    "\n",
    "def linearSearch1(x,L):\n",
    "    for e in L:\n",
    "        if x==e:\n",
    "            return True\n",
    "    return False"
   ]
  },
  {
   "cell_type": "code",
   "execution_count": 17,
   "metadata": {},
   "outputs": [],
   "source": [
    "def linearSearch2(x,L):\n",
    "    for e in L:\n",
    "        if x==e:\n",
    "            return True\n",
    "        elif x<e:\n",
    "            return False\n",
    "    return False"
   ]
  },
  {
   "cell_type": "code",
   "execution_count": 18,
   "metadata": {},
   "outputs": [],
   "source": [
    "# code up bisection search implementation 1\n",
    "\n",
    "import math\n",
    "\n",
    "def bisect_search1(x,L):\n",
    "    if L == []:\n",
    "        return False\n",
    "    elif len(L)==1:\n",
    "        return x==L[0]\n",
    "    else:\n",
    "        print(\"halving\")\n",
    "        i = len(L)//2\n",
    "        if x < L[i]:\n",
    "            print(\"lower half\")\n",
    "            return bisect_search1(x,L[:i])  \n",
    "        elif x > L[i]:\n",
    "            print(\"upper half\")\n",
    "            return bisect_search1(x,L[i:]) \n",
    "        else:\n",
    "            return True"
   ]
  },
  {
   "cell_type": "code",
   "execution_count": 19,
   "metadata": {},
   "outputs": [
    {
     "name": "stdout",
     "output_type": "stream",
     "text": [
      "[2, 3, 4, 7, 8]\n",
      "False\n"
     ]
    }
   ],
   "source": [
    "# implementation 2\n",
    "\n",
    "def bisect_search2(x,L):  # include l and r??\n",
    "\n",
    "    def bisect_search_helper(x,L,l,r):\n",
    "        if l==r:\n",
    "            return L[l]==x\n",
    "        \n",
    "        m = (l+r)//2\n",
    "        if x==L[m]:\n",
    "            return True\n",
    "        elif x<L[m]:\n",
    "            if l==m:\n",
    "                return False # x is off to left of the list\n",
    "            else:\n",
    "                return bisect_search_helper(x,L,l,m-1)  \n",
    "        else:\n",
    "            # if r==m: #why is statement this not necessary?\n",
    "                # return False # x is off to right of the list\n",
    "            return bisect_search_helper(x,L,m+1,r) \n",
    "\n",
    "    if len(L) == 0: # handle empty list\n",
    "        return False\n",
    "    else:\n",
    "       return bisect_search_helper(x,L,0,len(L)-1)\n",
    "\n",
    "\n",
    "L = [2,3,4,7,8]\n",
    "print(L)\n",
    "print(bisect_search2(5,L))"
   ]
  },
  {
   "cell_type": "code",
   "execution_count": 20,
   "metadata": {},
   "outputs": [
    {
     "name": "stdout",
     "output_type": "stream",
     "text": [
      "[2, 3, 5, 7]\n",
      "[2, 3, 5]\n",
      "4\n",
      "2\n",
      "5\n",
      "[2, 3]\n"
     ]
    }
   ],
   "source": [
    "L = [2,3,5,7]\n",
    "print(L)\n",
    "print(L[:3])\n",
    "print(len(L))\n",
    "i=len(L)//2\n",
    "print(i)\n",
    "print(L[i])\n",
    "print(L[:i])"
   ]
  },
  {
   "cell_type": "code",
   "execution_count": 21,
   "metadata": {},
   "outputs": [
    {
     "name": "stdout",
     "output_type": "stream",
     "text": [
      "[17, 18, 36, 38, 53, 53, 68, 79, 91, 93]\n"
     ]
    }
   ],
   "source": [
    "import random as rand\n",
    "\n",
    "L = [rand.randint(1,100) for i in range(10)]\n",
    "L.sort()\n",
    "print(L)"
   ]
  },
  {
   "cell_type": "code",
   "execution_count": 22,
   "metadata": {},
   "outputs": [
    {
     "name": "stdout",
     "output_type": "stream",
     "text": [
      "halving\n",
      "upper half\n",
      "halving\n",
      "lower half\n",
      "halving\n",
      "upper half\n",
      "False\n"
     ]
    }
   ],
   "source": [
    "import time\n",
    "t0 = time.time()\n",
    "# linearSearch1(65,L)\n",
    "# linearSearch2(65,L)\n",
    "print(bisect_search1(77,L))\n",
    "dt = time.time() - t0\n",
    "# print(\"That took \" + str(10**6*dt) + \" ns\")"
   ]
  },
  {
   "cell_type": "code",
   "execution_count": 26,
   "metadata": {},
   "outputs": [
    {
     "name": "stdout",
     "output_type": "stream",
     "text": [
      "[1]\n",
      "2\n",
      "[1, 2]\n",
      "3\n",
      "[1, 2, 3]\n",
      "2\n",
      "i is 1\n",
      "[1, 2, 2, 3]\n",
      "7\n",
      "[1, 2, 2, 3, 7]\n",
      "5\n",
      "i is 3\n",
      "[1, 2, 2, 3, 5, 7]\n",
      "99\n",
      "[1, 2, 2, 3, 5, 7, 99]\n",
      "3\n",
      "i is 5\n",
      "i is 4\n",
      "i is 3\n",
      "[1, 2, 2, 3, 3, 5, 7, 99]\n",
      "-1\n",
      "i is 6\n",
      "i is 5\n",
      "i is 4\n",
      "i is 3\n",
      "i is 2\n",
      "i is 1\n",
      "i is 0\n",
      "[-1, 1, 2, 2, 3, 3, 5, 7, 99]\n"
     ]
    }
   ],
   "source": [
    "# sorting - want it to be at least linear to make the sort worth the cost before searching!\n",
    "\n",
    "def cards_sort(L):\n",
    "    Ls = [L[0]]\n",
    "    for e in L[1:]:\n",
    "        print(Ls)\n",
    "        print(e)\n",
    "        if e>=Ls[-1]:\n",
    "            Ls.append(e)\n",
    "        else:\n",
    "            searchComplete = False\n",
    "            isInserted = False\n",
    "            i = len(Ls)-2\n",
    "            while not searchComplete:\n",
    "                print(\"i is\",i)\n",
    "                if e>=Ls[i]:\n",
    "                    Ls.insert(i+1,e)\n",
    "                    searchComplete = True\n",
    "                    isInserted = True\n",
    "                if i==0: searchComplete = True  # right order?\n",
    "                i-=1\n",
    "           \n",
    "            if not isInserted: Ls.insert(0,e)  # if we're here, i=0 and therefore append to start of list\n",
    "    return Ls\n",
    "\n",
    "print(cards_sort([1,2,3,2,7,5,99,3,-1]))"
   ]
  },
  {
   "cell_type": "code",
   "execution_count": 41,
   "metadata": {},
   "outputs": [
    {
     "name": "stdout",
     "output_type": "stream",
     "text": [
      "[-1, 2, 5, 7, 9, 11, 12, 199]\n"
     ]
    }
   ],
   "source": [
    "# bubble_sort\n",
    "# swap if wrong way round, and rpt\n",
    "\n",
    "L = [7,9,5,11,2,12,199,-1]\n",
    "\n",
    "def bubble_sort(L):\n",
    "\n",
    "    def swap_or_not(L,i):\n",
    "        swapFlag = False\n",
    "        if L[i]>=L[i+1]:\n",
    "            temp = L[i]\n",
    "            L[i] = L[i+1]\n",
    "            L[i+1] = temp\n",
    "            swapFlag = True\n",
    "        return L, swapFlag\n",
    "        \n",
    "    noSwaps = False\n",
    "    while not noSwaps:\n",
    "        noSwaps = True\n",
    "        for i in range(len(L)-1): # use indices not elems as will be mutated\n",
    "            L, swapFlag = swap_or_not(L,i)\n",
    "            if swapFlag: noSwaps = False\n",
    "\n",
    "    return L\n",
    "\n",
    "print(bubble_sort(L))"
   ]
  },
  {
   "cell_type": "code",
   "execution_count": 12,
   "metadata": {},
   "outputs": [
    {
     "name": "stdout",
     "output_type": "stream",
     "text": [
      "[-1, 3, 12, 12, 21]\n"
     ]
    }
   ],
   "source": [
    "\n",
    "# selection sort\n",
    "# compare prefix with suffix\n",
    "\n",
    "# first elem in sorted prefix\n",
    "# compare with next elem\n",
    "# if next was smaller, put it into the sorted prefix and exit, raise swapFlag\n",
    "# if next was bigger or equal, move onto next elem and rpt above\n",
    "\n",
    "# 2nd elem in sorted prefix\n",
    "# rpt above code block\n",
    "\n",
    "# and so on, until no swapFlag is raised, in which case do not repeat, the list is sorted\n",
    "\n",
    "def selection_sort(L):\n",
    "\n",
    "    S = L.copy()\n",
    "    P = []          # start w empty list\n",
    "\n",
    "    for i in range(len(S)):\n",
    "        p = S.pop(0)    # take first elem\n",
    "        for j in range(len(S)):\n",
    "            if S[j]<p: # swap\n",
    "                p,S[j] = S[j], p\n",
    "        P.append(p) # append the surviving smallest elem to the sorted pile\n",
    "\n",
    "    return P\n",
    "\n",
    "print(selection_sort([12,-1,12,3,21]))\n"
   ]
  },
  {
   "cell_type": "code",
   "execution_count": 5,
   "metadata": {},
   "outputs": [
    {
     "name": "stdout",
     "output_type": "stream",
     "text": [
      "[27, 34, 99]\n"
     ]
    }
   ],
   "source": [
    "\n",
    "# merge sort O(nlogn)\n",
    "# split into pairs then merge 2 groups at a time     \n",
    "\n",
    "def merge_sort(L):\n",
    "    # what about scalars or empty list?\n",
    "    if len(L)<2:\n",
    "        return L\n",
    "    else: # divide and conquer\n",
    "        middle = len(L)//2\n",
    "        left = merge_sort(L[:middle])  # left = L[i:int(i+n/2)]\n",
    "        right = merge_sort(L[middle:]) # right = L[int(i+n/2):int(i+n)]\n",
    "        return merge(left,right)\n",
    "\n",
    "def merge(left,right):        \n",
    "    l,r = 0,0   # index of current member of left group being used to compare \n",
    "    sorted = []\n",
    "    while l < len(left) and r < len(right):\n",
    "        if right[r]>left[l]:\n",
    "            sorted.append(left[l])    # sorted.append(left)\n",
    "            # swap has occurred, so move onto the next member of left\n",
    "            l += 1\n",
    "        else:   \n",
    "            sorted.append(right[r]) \n",
    "            r += 1\n",
    "    while l < len(left):\n",
    "        sorted.append(left[l])\n",
    "        l += 1\n",
    "    while r < len(right):\n",
    "        sorted.append(right[r])\n",
    "        r += 1\n",
    "    return sorted\n",
    "\n",
    "print(merge_sort([99,34,27]))"
   ]
  }
 ],
 "metadata": {
  "interpreter": {
   "hash": "916dbcbb3f70747c44a77c7bcd40155683ae19c65e1c03b4aa3499c5328201f1"
  },
  "kernelspec": {
   "display_name": "Python 3.8.10 64-bit",
   "language": "python",
   "name": "python3"
  },
  "language_info": {
   "codemirror_mode": {
    "name": "ipython",
    "version": 3
   },
   "file_extension": ".py",
   "mimetype": "text/x-python",
   "name": "python",
   "nbconvert_exporter": "python",
   "pygments_lexer": "ipython3",
   "version": "3.8.10"
  },
  "orig_nbformat": 4
 },
 "nbformat": 4,
 "nbformat_minor": 2
}
