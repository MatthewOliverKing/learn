{
 "cells": [
  {
   "cell_type": "code",
   "execution_count": 1,
   "metadata": {},
   "outputs": [],
   "source": [
    "# stdout prints the last line\n",
    "# semicolon supresses output\n",
    "2232\n",
    "122;"
   ]
  },
  {
   "cell_type": "code",
   "execution_count": 2,
   "metadata": {},
   "outputs": [
    {
     "name": "stdout",
     "output_type": "stream",
     "text": [
      "hello world\n"
     ]
    }
   ],
   "source": [
    "str = \"hello world\"\n",
    "println(str)"
   ]
  },
  {
   "cell_type": "code",
   "execution_count": 3,
   "metadata": {},
   "outputs": [
    {
     "data": {
      "text/plain": [
       "String"
      ]
     },
     "metadata": {},
     "output_type": "display_data"
    }
   ],
   "source": [
    "#= comment block\n",
    "bla bla \n",
    "=#\n",
    "typeof(str)"
   ]
  },
  {
   "cell_type": "code",
   "execution_count": 4,
   "metadata": {},
   "outputs": [
    {
     "data": {
      "text/plain": [
       "\" Germans say \\\"hallo Welt\\\" \""
      ]
     },
     "metadata": {},
     "output_type": "display_data"
    }
   ],
   "source": [
    "\"\"\" Germans say \"hallo Welt\" \"\"\""
   ]
  },
  {
   "cell_type": "code",
   "execution_count": 5,
   "metadata": {},
   "outputs": [
    {
     "name": "stdout",
     "output_type": "stream",
     "text": [
      "It is 10 AM on Friday\n"
     ]
    }
   ],
   "source": [
    "# evaluting expr/vars in strings\n",
    "time = \"10 AM\"\n",
    "day = \"Friday\"\n",
    "println(\"It is $time on $day\")"
   ]
  },
  {
   "cell_type": "code",
   "execution_count": 6,
   "metadata": {},
   "outputs": [
    {
     "name": "stdout",
     "output_type": "stream",
     "text": [
      "poowee\n",
      "poowee\n"
     ]
    },
    {
     "data": {
      "text/plain": [
       "\"poowee\""
      ]
     },
     "metadata": {},
     "output_type": "display_data"
    }
   ],
   "source": [
    "str1 = \"poo\"\n",
    "str2 = \"wee\"\n",
    "println(str1,str2)\n",
    "println(str1*str2)\n",
    "\"$str1$str2\""
   ]
  },
  {
   "cell_type": "markdown",
   "metadata": {},
   "source": [
    "## Data Structures\n",
    "### Dicts\n",
    "### Tuples\n",
    "### Array"
   ]
  },
  {
   "cell_type": "code",
   "execution_count": 7,
   "metadata": {},
   "outputs": [
    {
     "data": {
      "text/plain": [
       "Dict{String, Int64} with 3 entries:\n",
       "  \"Jesse\" => 5065\n",
       "  \"Aiden\" => 5070\n",
       "  \"Matt\"  => 5061"
      ]
     },
     "metadata": {},
     "output_type": "display_data"
    }
   ],
   "source": [
    "myphonebook = Dict(\"Matt\"=>5061,\"Aiden\"=>5070)\n",
    "myphonebook[\"Jesse\"] = 5065\n",
    "myphonebook"
   ]
  },
  {
   "cell_type": "code",
   "execution_count": 8,
   "metadata": {},
   "outputs": [
    {
     "data": {
      "text/plain": [
       "5065"
      ]
     },
     "metadata": {},
     "output_type": "display_data"
    }
   ],
   "source": [
    "pop!(myphonebook,\"Jesse\")"
   ]
  },
  {
   "cell_type": "code",
   "execution_count": 9,
   "metadata": {},
   "outputs": [
    {
     "data": {
      "text/plain": [
       "\"Jesse\""
      ]
     },
     "metadata": {},
     "output_type": "display_data"
    }
   ],
   "source": [
    "tup = (\"Matt\",\"Aiden\",\"Jesse\")\n",
    "tup[1]\n",
    "tup[end]"
   ]
  },
  {
   "cell_type": "code",
   "execution_count": 10,
   "metadata": {},
   "outputs": [
    {
     "name": "stdout",
     "output_type": "stream",
     "text": [
      "4\n"
     ]
    },
    {
     "data": {
      "text/plain": [
       "Vector{Int64}\u001b[90m (alias for \u001b[39m\u001b[90mArray{Int64, 1}\u001b[39m\u001b[90m)\u001b[39m"
      ]
     },
     "metadata": {},
     "output_type": "display_data"
    }
   ],
   "source": [
    "list = [4,1,4,23]\n",
    "println(list[1])\n",
    "typeof(list)"
   ]
  },
  {
   "cell_type": "code",
   "execution_count": 11,
   "metadata": {},
   "outputs": [
    {
     "data": {
      "text/plain": [
       "5-element Vector{Int64}:\n",
       "   4\n",
       "   1\n",
       "   4\n",
       "  23\n",
       " 404"
      ]
     },
     "metadata": {},
     "output_type": "display_data"
    }
   ],
   "source": [
    "array = [[2,3,\"poo\"],[2,2]]\n",
    "typeof(array)\n",
    "push!(list,404)"
   ]
  },
  {
   "cell_type": "markdown",
   "metadata": {},
   "source": [
    "### Loops"
   ]
  },
  {
   "cell_type": "code",
   "execution_count": 55,
   "metadata": {},
   "outputs": [
    {
     "name": "stdout",
     "output_type": "stream",
     "text": [
      "123456789\n",
      "truetruetruefalsetrue"
     ]
    }
   ],
   "source": [
    "a = 1\n",
    "while a<10\n",
    "    print(a)\n",
    "    a += 1\n",
    "end\n",
    "\n",
    "println(\"\")\n",
    "\n",
    "arr = [1,1,1,0,1]\n",
    "for a = arr\n",
    "    print(a==true)\n",
    "end"
   ]
  },
  {
   "cell_type": "code",
   "execution_count": 13,
   "metadata": {},
   "outputs": [
    {
     "data": {
      "text/plain": [
       "1×1 Matrix{Int64}:\n",
       " 2"
      ]
     },
     "metadata": {},
     "output_type": "display_data"
    },
    {
     "data": {
      "text/plain": [
       "2×2 Matrix{Int64}:\n",
       " 2  3\n",
       " 3  4"
      ]
     },
     "metadata": {},
     "output_type": "display_data"
    },
    {
     "data": {
      "text/plain": [
       "3×3 Matrix{Int64}:\n",
       " 2  3  4\n",
       " 3  4  5\n",
       " 4  5  6"
      ]
     },
     "metadata": {},
     "output_type": "display_data"
    },
    {
     "data": {
      "text/plain": [
       "4×4 Matrix{Int64}:\n",
       " 2  3  4  5\n",
       " 3  4  5  6\n",
       " 4  5  6  7\n",
       " 5  6  7  8"
      ]
     },
     "metadata": {},
     "output_type": "display_data"
    },
    {
     "data": {
      "text/plain": [
       "5×5 Matrix{Int64}:\n",
       " 2  3  4  5   6\n",
       " 3  4  5  6   7\n",
       " 4  5  6  7   8\n",
       " 5  6  7  8   9\n",
       " 6  7  8  9  10"
      ]
     },
     "metadata": {},
     "output_type": "display_data"
    }
   ],
   "source": [
    "# nested fopr loops, addition table\n",
    "\n",
    "m = 5; n = 5;\n",
    "A = zeros(m,n)\n",
    "for i in 1:m, j in 1:n\n",
    "    A[i,j] = i + j\n",
    "end\n",
    "A\n",
    "\n",
    "\n",
    "# array comprehension\n",
    "for s = 1:5\n",
    "    A = [i+j for i in 1:s, j in 1:s]\n",
    "    display(A)  # prints every execution, not just last in code block\n",
    "end\n"
   ]
  },
  {
   "cell_type": "markdown",
   "metadata": {},
   "source": [
    "### Conditionals"
   ]
  },
  {
   "cell_type": "code",
   "execution_count": 14,
   "metadata": {},
   "outputs": [
    {
     "name": "stdout",
     "output_type": "stream",
     "text": [
      "bye"
     ]
    }
   ],
   "source": [
    "x = 3\n",
    "if x>3\n",
    "    # pxss\n",
    "    print(\"hi\")\n",
    "elseif x<10\n",
    "    # pxss\n",
    "    print(\"bye\")\n",
    "else\n",
    "    println(\"boo!\")\n",
    "end\n"
   ]
  },
  {
   "cell_type": "code",
   "execution_count": 15,
   "metadata": {},
   "outputs": [
    {
     "name": "stdout",
     "output_type": "stream",
     "text": [
      "Correct!\n"
     ]
    }
   ],
   "source": [
    "# terniry operator\n",
    "a = 9\n",
    "a == 9 ? println(\"Correct!\") : print(\"Wrong answer\")"
   ]
  },
  {
   "cell_type": "code",
   "execution_count": 16,
   "metadata": {},
   "outputs": [
    {
     "name": "stdout",
     "output_type": "stream",
     "text": [
      "x is less than y\n"
     ]
    }
   ],
   "source": [
    "# short-circuit evaluation\n",
    "x = 3; y = 8;\n",
    "(x == y) && println(\"Answers are equal\")\n",
    "(x<y) && println(\"x is less than y\")"
   ]
  },
  {
   "cell_type": "markdown",
   "metadata": {},
   "source": [
    "### Functions"
   ]
  },
  {
   "cell_type": "code",
   "execution_count": 17,
   "metadata": {},
   "outputs": [
    {
     "data": {
      "text/plain": [
       "4"
      ]
     },
     "metadata": {},
     "output_type": "display_data"
    }
   ],
   "source": [
    "# \"normal\" defn\n",
    "function square(x)\n",
    "    x + 10\n",
    "    x^2\n",
    "end\n",
    "\n",
    "square(2)"
   ]
  },
  {
   "cell_type": "code",
   "execution_count": 18,
   "metadata": {},
   "outputs": [
    {
     "data": {
      "text/plain": [
       "9"
      ]
     },
     "metadata": {},
     "output_type": "display_data"
    }
   ],
   "source": [
    "# in-line function\n",
    "square(x) = x^2\n",
    "square(3)"
   ]
  },
  {
   "cell_type": "code",
   "execution_count": 19,
   "metadata": {},
   "outputs": [
    {
     "data": {
      "text/plain": [
       "100"
      ]
     },
     "metadata": {},
     "output_type": "display_data"
    }
   ],
   "source": [
    "# anonymous function\n",
    "sq = x -> x^2\n",
    "sq(10)"
   ]
  },
  {
   "cell_type": "code",
   "execution_count": 20,
   "metadata": {},
   "outputs": [
    {
     "data": {
      "text/plain": [
       "3×3 Matrix{Float64}:\n",
       " 0.425866  1.07126   0.999234\n",
       " 0.357625  0.862513  0.780441\n",
       " 0.298135  0.942077  0.962001"
      ]
     },
     "metadata": {},
     "output_type": "display_data"
    }
   ],
   "source": [
    "# duck-typing\n",
    "sq(rand(3,3))"
   ]
  },
  {
   "cell_type": "code",
   "execution_count": 21,
   "metadata": {},
   "outputs": [],
   "source": [
    "# mutating! vs non-mutating functions\n",
    "# ! = 'bang'\n",
    "# I'm pretty sure this is just a convention, if the fn doesn't already exist with bang, putting bang won't do anything"
   ]
  },
  {
   "cell_type": "markdown",
   "metadata": {},
   "source": [
    "### Broadcasting"
   ]
  },
  {
   "cell_type": "code",
   "execution_count": 22,
   "metadata": {},
   "outputs": [],
   "source": [
    "# broadcast the object 'across' the function\n",
    "# pass each element of the object to the fn\n",
    "# f(x) vs f.(x)"
   ]
  },
  {
   "cell_type": "markdown",
   "metadata": {},
   "source": [
    "## Packages"
   ]
  },
  {
   "cell_type": "code",
   "execution_count": 23,
   "metadata": {},
   "outputs": [],
   "source": [
    "#Pkg.add(\"example\") the first time u want to use it in a julia installation\n",
    "# using Example # import into the namespace?"
   ]
  },
  {
   "cell_type": "markdown",
   "metadata": {},
   "source": [
    "## Plotting\n",
    "##### Can use pyplot and others, but here going thru Plots.jl"
   ]
  },
  {
   "cell_type": "code",
   "execution_count": 24,
   "metadata": {},
   "outputs": [
    {
     "data": {
      "image/png": "[encoded data removed]",
      "image/svg+xml": "<?xml version=\"1.0\" encoding=\"utf-8\"?>\n<svg xmlns=\"http://www.w3.org/2000/svg\" xmlns:xlink=\"http://www.w3.org/1999/xlink\" width=\"600\" height=\"400\" viewBox=\"0 0 2400 1600\">\n<defs>\n  <clipPath id=\"clip900\">\n    <rect x=\"0\" y=\"0\" width=\"2400\" height=\"1600\"/>\n  </clipPath>\n</defs>\n<path clip-path=\"url(#clip900)\" d=\"\nM0 1600 L2400 1600 L2400 0 L0 0  Z\n  \" fill=\"#ffffff\" fill-rule=\"evenodd\" fill-opacity=\"1\"/>\n<defs>\n  <clipPath id=\"clip901\">\n    <rect x=\"480\" y=\"0\" width=\"1681\" height=\"1600\"/>\n  </clipPath>\n</defs>\n<path clip-path=\"url(#clip900)\" d=\"\nM112.177 1486.45 L2352.76 1486.45 L2352.76 47.2441 L112.177 47.2441  Z\n  \" fill=\"#ffffff\" fill-rule=\"evenodd\" fill-opacity=\"1\"/>\n<defs>\n  <clipPath id=\"clip902\">\n    <rect x=\"112\" y=\"47\" width=\"2242\" height=\"1440\"/>\n  </clipPath>\n</defs>\n<polyline clip-path=\"url(#clip902)\" style=\"stroke:#000000; stroke-linecap:round; stroke-linejoin:round; stroke-width:2; stroke-opacity:0.1; fill:none\" points=\"\n  175.59,1486.45 175.59,47.2441 \n  \"/>\n<polyline clip-path=\"url(#clip902)\" style=\"stroke:#000000; stroke-linecap:round; stroke-linejoin:round; stroke-width:2; stroke-opacity:0.1; fill:none\" points=\"\n  704.028,1486.45 704.028,47.2441 \n  \"/>\n<polyline clip-path=\"url(#clip902)\" style=\"stroke:#000000; stroke-linecap:round; stroke-linejoin:round; stroke-width:2; stroke-opacity:0.1; fill:none\" points=\"\n  1232.47,1486.45 1232.47,47.2441 \n  \"/>\n<polyline clip-path=\"url(#clip902)\" style=\"stroke:#000000; stroke-linecap:round; stroke-linejoin:round; stroke-width:2; stroke-opacity:0.1; fill:none\" points=\"\n  1760.9,1486.45 1760.9,47.2441 \n  \"/>\n<polyline clip-path=\"url(#clip902)\" style=\"stroke:#000000; stroke-linecap:round; stroke-linejoin:round; stroke-width:2; stroke-opacity:0.1; fill:none\" points=\"\n  2289.34,1486.45 2289.34,47.2441 \n  \"/>\n<polyline clip-path=\"url(#clip900)\" style=\"stroke:#000000; stroke-linecap:round; stroke-linejoin:round; stroke-width:4; stroke-opacity:1; fill:none\" points=\"\n  112.177,1486.45 2352.76,1486.45 \n  \"/>\n<polyline clip-path=\"url(#clip900)\" style=\"stroke:#000000; stroke-linecap:round; stroke-linejoin:round; stroke-width:4; stroke-opacity:1; fill:none\" points=\"\n  175.59,1486.45 175.59,1467.55 \n  \"/>\n<polyline clip-path=\"url(#clip900)\" style=\"stroke:#000000; stroke-linecap:round; stroke-linejoin:round; stroke-width:4; stroke-opacity:1; fill:none\" points=\"\n  704.028,1486.45 704.028,1467.55 \n  \"/>\n<polyline clip-path=\"url(#clip900)\" style=\"stroke:#000000; stroke-linecap:round; stroke-linejoin:round; stroke-width:4; stroke-opacity:1; fill:none\" points=\"\n  1232.47,1486.45 1232.47,1467.55 \n  \"/>\n<polyline clip-path=\"url(#clip900)\" style=\"stroke:#000000; stroke-linecap:round; stroke-linejoin:round; stroke-width:4; stroke-opacity:1; fill:none\" points=\"\n  1760.9,1486.45 1760.9,1467.55 \n  \"/>\n<polyline clip-path=\"url(#clip900)\" style=\"stroke:#000000; stroke-linecap:round; stroke-linejoin:round; stroke-width:4; stroke-opacity:1; fill:none\" points=\"\n  2289.34,1486.45 2289.34,1467.55 \n  \"/>\n<path clip-path=\"url(#clip900)\" d=\"M145.347 1532.02 L175.023 1532.02 L175.023 1535.95 L145.347 1535.95 L145.347 1532.02 Z\" fill=\"#000000\" fill-rule=\"evenodd\" fill-opacity=\"1\" /><path clip-path=\"url(#clip900)\" d=\"M185.925 1544.91 L193.564 1544.91 L193.564 1518.55 L185.254 1520.21 L185.254 1515.95 L193.518 1514.29 L198.194 1514.29 L198.194 1544.91 L205.833 1544.91 L205.833 1548.85 L185.925 1548.85 L185.925 1544.91 Z\" fill=\"#000000\" fill-rule=\"evenodd\" fill-opacity=\"1\" /><path clip-path=\"url(#clip900)\" d=\"M704.028 1517.37 Q700.417 1517.37 698.588 1520.93 Q696.783 1524.47 696.783 1531.6 Q696.783 1538.71 698.588 1542.27 Q700.417 1545.82 704.028 1545.82 Q707.662 1545.82 709.468 1542.27 Q711.297 1538.71 711.297 1531.6 Q711.297 1524.47 709.468 1520.93 Q707.662 1517.37 704.028 1517.37 M704.028 1513.66 Q709.838 1513.66 712.894 1518.27 Q715.973 1522.85 715.973 1531.6 Q715.973 1540.33 712.894 1544.94 Q709.838 1549.52 704.028 1549.52 Q698.218 1549.52 695.139 1544.94 Q692.084 1540.33 692.084 1531.6 Q692.084 1522.85 695.139 1518.27 Q698.218 1513.66 704.028 1513.66 Z\" fill=\"#000000\" fill-rule=\"evenodd\" fill-opacity=\"1\" /><path clip-path=\"url(#clip900)\" d=\"M1222.85 1544.91 L1230.49 1544.91 L1230.49 1518.55 L1222.18 1520.21 L1222.18 1515.95 L1230.44 1514.29 L1235.12 1514.29 L1235.12 1544.91 L1242.76 1544.91 L1242.76 1548.85 L1222.85 1548.85 L1222.85 1544.91 Z\" fill=\"#000000\" fill-rule=\"evenodd\" fill-opacity=\"1\" /><path clip-path=\"url(#clip900)\" d=\"M1755.56 1544.91 L1771.88 1544.91 L1771.88 1548.85 L1749.93 1548.85 L1749.93 1544.91 Q1752.59 1542.16 1757.18 1537.53 Q1761.78 1532.88 1762.97 1531.53 Q1765.21 1529.01 1766.09 1527.27 Q1766.99 1525.51 1766.99 1523.82 Q1766.99 1521.07 1765.05 1519.33 Q1763.13 1517.6 1760.03 1517.6 Q1757.83 1517.6 1755.37 1518.36 Q1752.94 1519.13 1750.16 1520.68 L1750.16 1515.95 Q1752.99 1514.82 1755.44 1514.24 Q1757.9 1513.66 1759.93 1513.66 Q1765.3 1513.66 1768.5 1516.35 Q1771.69 1519.03 1771.69 1523.52 Q1771.69 1525.65 1770.88 1527.57 Q1770.09 1529.47 1767.99 1532.07 Q1767.41 1532.74 1764.31 1535.95 Q1761.21 1539.15 1755.56 1544.91 Z\" fill=\"#000000\" fill-rule=\"evenodd\" fill-opacity=\"1\" /><path clip-path=\"url(#clip900)\" d=\"M2293.59 1530.21 Q2296.95 1530.93 2298.82 1533.2 Q2300.72 1535.47 2300.72 1538.8 Q2300.72 1543.92 2297.2 1546.72 Q2293.68 1549.52 2287.2 1549.52 Q2285.03 1549.52 2282.71 1549.08 Q2280.42 1548.66 2277.97 1547.81 L2277.97 1543.29 Q2279.91 1544.43 2282.23 1545.01 Q2284.54 1545.58 2287.06 1545.58 Q2291.46 1545.58 2293.75 1543.85 Q2296.07 1542.11 2296.07 1538.8 Q2296.07 1535.75 2293.92 1534.03 Q2291.79 1532.3 2287.97 1532.3 L2283.94 1532.3 L2283.94 1528.45 L2288.15 1528.45 Q2291.6 1528.45 2293.43 1527.09 Q2295.26 1525.7 2295.26 1523.11 Q2295.26 1520.45 2293.36 1519.03 Q2291.48 1517.6 2287.97 1517.6 Q2286.04 1517.6 2283.85 1518.01 Q2281.65 1518.43 2279.01 1519.31 L2279.01 1515.14 Q2281.67 1514.4 2283.98 1514.03 Q2286.32 1513.66 2288.38 1513.66 Q2293.71 1513.66 2296.81 1516.09 Q2299.91 1518.5 2299.91 1522.62 Q2299.91 1525.49 2298.27 1527.48 Q2296.62 1529.45 2293.59 1530.21 Z\" fill=\"#000000\" fill-rule=\"evenodd\" fill-opacity=\"1\" /><polyline clip-path=\"url(#clip902)\" style=\"stroke:#000000; stroke-linecap:round; stroke-linejoin:round; stroke-width:2; stroke-opacity:0.1; fill:none\" points=\"\n  112.177,1445.72 2352.76,1445.72 \n  \"/>\n<polyline clip-path=\"url(#clip902)\" style=\"stroke:#000000; stroke-linecap:round; stroke-linejoin:round; stroke-width:2; stroke-opacity:0.1; fill:none\" points=\"\n  112.177,1144 2352.76,1144 \n  \"/>\n<polyline clip-path=\"url(#clip902)\" style=\"stroke:#000000; stroke-linecap:round; stroke-linejoin:round; stroke-width:2; stroke-opacity:0.1; fill:none\" points=\"\n  112.177,842.276 2352.76,842.276 \n  \"/>\n<polyline clip-path=\"url(#clip902)\" style=\"stroke:#000000; stroke-linecap:round; stroke-linejoin:round; stroke-width:2; stroke-opacity:0.1; fill:none\" points=\"\n  112.177,540.556 2352.76,540.556 \n  \"/>\n<polyline clip-path=\"url(#clip902)\" style=\"stroke:#000000; stroke-linecap:round; stroke-linejoin:round; stroke-width:2; stroke-opacity:0.1; fill:none\" points=\"\n  112.177,238.836 2352.76,238.836 \n  \"/>\n<polyline clip-path=\"url(#clip900)\" style=\"stroke:#000000; stroke-linecap:round; stroke-linejoin:round; stroke-width:4; stroke-opacity:1; fill:none\" points=\"\n  112.177,1486.45 112.177,47.2441 \n  \"/>\n<polyline clip-path=\"url(#clip900)\" style=\"stroke:#000000; stroke-linecap:round; stroke-linejoin:round; stroke-width:4; stroke-opacity:1; fill:none\" points=\"\n  112.177,1445.72 131.075,1445.72 \n  \"/>\n<polyline clip-path=\"url(#clip900)\" style=\"stroke:#000000; stroke-linecap:round; stroke-linejoin:round; stroke-width:4; stroke-opacity:1; fill:none\" points=\"\n  112.177,1144 131.075,1144 \n  \"/>\n<polyline clip-path=\"url(#clip900)\" style=\"stroke:#000000; stroke-linecap:round; stroke-linejoin:round; stroke-width:4; stroke-opacity:1; fill:none\" points=\"\n  112.177,842.276 131.075,842.276 \n  \"/>\n<polyline clip-path=\"url(#clip900)\" style=\"stroke:#000000; stroke-linecap:round; stroke-linejoin:round; stroke-width:4; stroke-opacity:1; fill:none\" points=\"\n  112.177,540.556 131.075,540.556 \n  \"/>\n<polyline clip-path=\"url(#clip900)\" style=\"stroke:#000000; stroke-linecap:round; stroke-linejoin:round; stroke-width:4; stroke-opacity:1; fill:none\" points=\"\n  112.177,238.836 131.075,238.836 \n  \"/>\n<path clip-path=\"url(#clip900)\" d=\"M64.2328 1431.51 Q60.6217 1431.51 58.793 1435.08 Q56.9875 1438.62 56.9875 1445.75 Q56.9875 1452.86 58.793 1456.42 Q60.6217 1459.96 64.2328 1459.96 Q67.867 1459.96 69.6726 1456.42 Q71.5013 1452.86 71.5013 1445.75 Q71.5013 1438.62 69.6726 1435.08 Q67.867 1431.51 64.2328 1431.51 M64.2328 1427.81 Q70.0429 1427.81 73.0985 1432.42 Q76.1772 1437 76.1772 1445.75 Q76.1772 1454.48 73.0985 1459.08 Q70.0429 1463.67 64.2328 1463.67 Q58.4226 1463.67 55.344 1459.08 Q52.2884 1454.48 52.2884 1445.75 Q52.2884 1437 55.344 1432.42 Q58.4226 1427.81 64.2328 1427.81 Z\" fill=\"#000000\" fill-rule=\"evenodd\" fill-opacity=\"1\" /><path clip-path=\"url(#clip900)\" d=\"M59.8578 1157.34 L76.1772 1157.34 L76.1772 1161.28 L54.2328 1161.28 L54.2328 1157.34 Q56.8949 1154.59 61.4782 1149.96 Q66.0846 1145.3 67.2652 1143.96 Q69.5105 1141.44 70.3902 1139.7 Q71.2929 1137.94 71.2929 1136.25 Q71.2929 1133.5 69.3485 1131.76 Q67.4272 1130.03 64.3254 1130.03 Q62.1263 1130.03 59.6726 1130.79 Q57.2421 1131.55 54.4643 1133.1 L54.4643 1128.38 Q57.2884 1127.25 59.7421 1126.67 Q62.1958 1126.09 64.2328 1126.09 Q69.6031 1126.09 72.7976 1128.78 Q75.992 1131.46 75.992 1135.95 Q75.992 1138.08 75.1818 1140 Q74.3948 1141.9 72.2883 1144.49 Q71.7096 1145.16 68.6078 1148.38 Q65.5059 1151.58 59.8578 1157.34 Z\" fill=\"#000000\" fill-rule=\"evenodd\" fill-opacity=\"1\" /><path clip-path=\"url(#clip900)\" d=\"M66.5939 829.07 L54.7884 847.519 L66.5939 847.519 L66.5939 829.07 M65.367 824.996 L71.2466 824.996 L71.2466 847.519 L76.1772 847.519 L76.1772 851.408 L71.2466 851.408 L71.2466 859.556 L66.5939 859.556 L66.5939 851.408 L50.9921 851.408 L50.9921 846.894 L65.367 824.996 Z\" fill=\"#000000\" fill-rule=\"evenodd\" fill-opacity=\"1\" /><path clip-path=\"url(#clip900)\" d=\"M64.6495 538.693 Q61.5013 538.693 59.6495 540.845 Q57.8208 542.998 57.8208 546.748 Q57.8208 550.475 59.6495 552.651 Q61.5013 554.804 64.6495 554.804 Q67.7976 554.804 69.6263 552.651 Q71.4781 550.475 71.4781 546.748 Q71.4781 542.998 69.6263 540.845 Q67.7976 538.693 64.6495 538.693 M73.9318 524.04 L73.9318 528.299 Q72.1726 527.466 70.367 527.026 Q68.5846 526.586 66.8254 526.586 Q62.1958 526.586 59.7421 529.711 Q57.3115 532.836 56.9643 539.156 Q58.33 537.142 60.3902 536.077 Q62.4504 534.989 64.9272 534.989 Q70.1355 534.989 73.1448 538.16 Q76.1772 541.308 76.1772 546.748 Q76.1772 552.072 73.029 555.29 Q69.8809 558.507 64.6495 558.507 Q58.6541 558.507 55.4828 553.924 Q52.3116 549.318 52.3116 540.591 Q52.3116 532.396 56.2004 527.535 Q60.0893 522.651 66.6402 522.651 Q68.3994 522.651 70.1818 522.998 Q71.9874 523.346 73.9318 524.04 Z\" fill=\"#000000\" fill-rule=\"evenodd\" fill-opacity=\"1\" /><path clip-path=\"url(#clip900)\" d=\"M64.3254 239.704 Q60.9921 239.704 59.0708 241.487 Q57.1726 243.269 57.1726 246.394 Q57.1726 249.519 59.0708 251.301 Q60.9921 253.084 64.3254 253.084 Q67.6587 253.084 69.58 251.301 Q71.5013 249.496 71.5013 246.394 Q71.5013 243.269 69.58 241.487 Q67.6819 239.704 64.3254 239.704 M59.6495 237.714 Q56.6402 236.973 54.9504 234.913 Q53.2838 232.852 53.2838 229.89 Q53.2838 225.746 56.2236 223.339 Q59.1865 220.931 64.3254 220.931 Q69.4874 220.931 72.4272 223.339 Q75.367 225.746 75.367 229.89 Q75.367 232.852 73.6772 234.913 Q72.0105 236.973 69.0244 237.714 Q72.404 238.501 74.279 240.792 Q76.1772 243.084 76.1772 246.394 Q76.1772 251.417 73.0985 254.102 Q70.0429 256.788 64.3254 256.788 Q58.6078 256.788 55.5291 254.102 Q52.4736 251.417 52.4736 246.394 Q52.4736 243.084 54.3717 240.792 Q56.2699 238.501 59.6495 237.714 M57.9365 230.329 Q57.9365 233.014 59.6032 234.519 Q61.293 236.024 64.3254 236.024 Q67.3346 236.024 69.0244 234.519 Q70.7374 233.014 70.7374 230.329 Q70.7374 227.644 69.0244 226.14 Q67.3346 224.635 64.3254 224.635 Q61.293 224.635 59.6032 226.14 Q57.9365 227.644 57.9365 230.329 Z\" fill=\"#000000\" fill-rule=\"evenodd\" fill-opacity=\"1\" /><polyline clip-path=\"url(#clip902)\" style=\"stroke:#009af9; stroke-linecap:round; stroke-linejoin:round; stroke-width:4; stroke-opacity:1; fill:none\" points=\"\n  175.59,1294.86 228.434,1323.52 281.277,1349.17 334.121,1371.79 386.965,1391.41 439.809,1408 492.653,1421.58 545.497,1432.14 598.34,1439.68 651.184,1444.21 \n  704.028,1445.72 756.872,1444.21 809.716,1439.68 862.56,1432.14 915.404,1421.58 968.247,1408 1021.09,1391.41 1073.94,1371.79 1126.78,1349.17 1179.62,1323.52 \n  1232.47,1294.86 1285.31,1263.18 1338.15,1228.48 1391,1190.76 1443.84,1150.03 1496.69,1106.28 1549.53,1059.51 1602.37,1009.73 1655.22,956.93 1708.06,901.111 \n  1760.9,842.276 1813.75,780.423 1866.59,715.554 1919.44,647.667 1972.28,576.762 2025.12,502.841 2077.97,425.903 2130.81,345.947 2183.66,262.974 2236.5,176.984 \n  2289.34,87.9763 \n  \"/>\n<circle clip-path=\"url(#clip902)\" cx=\"175.59\" cy=\"1294.86\" r=\"14.4\" fill=\"#e26f46\" fill-rule=\"evenodd\" fill-opacity=\"1\" stroke=\"#000000\" stroke-opacity=\"1\" stroke-width=\"3.2\"/>\n<circle clip-path=\"url(#clip902)\" cx=\"228.434\" cy=\"1323.52\" r=\"14.4\" fill=\"#e26f46\" fill-rule=\"evenodd\" fill-opacity=\"1\" stroke=\"#000000\" stroke-opacity=\"1\" stroke-width=\"3.2\"/>\n<circle clip-path=\"url(#clip902)\" cx=\"281.277\" cy=\"1349.17\" r=\"14.4\" fill=\"#e26f46\" fill-rule=\"evenodd\" fill-opacity=\"1\" stroke=\"#000000\" stroke-opacity=\"1\" stroke-width=\"3.2\"/>\n<circle clip-path=\"url(#clip902)\" cx=\"334.121\" cy=\"1371.79\" r=\"14.4\" fill=\"#e26f46\" fill-rule=\"evenodd\" fill-opacity=\"1\" stroke=\"#000000\" stroke-opacity=\"1\" stroke-width=\"3.2\"/>\n<circle clip-path=\"url(#clip902)\" cx=\"386.965\" cy=\"1391.41\" r=\"14.4\" fill=\"#e26f46\" fill-rule=\"evenodd\" fill-opacity=\"1\" stroke=\"#000000\" stroke-opacity=\"1\" stroke-width=\"3.2\"/>\n<circle clip-path=\"url(#clip902)\" cx=\"439.809\" cy=\"1408\" r=\"14.4\" fill=\"#e26f46\" fill-rule=\"evenodd\" fill-opacity=\"1\" stroke=\"#000000\" stroke-opacity=\"1\" stroke-width=\"3.2\"/>\n<circle clip-path=\"url(#clip902)\" cx=\"492.653\" cy=\"1421.58\" r=\"14.4\" fill=\"#e26f46\" fill-rule=\"evenodd\" fill-opacity=\"1\" stroke=\"#000000\" stroke-opacity=\"1\" stroke-width=\"3.2\"/>\n<circle clip-path=\"url(#clip902)\" cx=\"545.497\" cy=\"1432.14\" r=\"14.4\" fill=\"#e26f46\" fill-rule=\"evenodd\" fill-opacity=\"1\" stroke=\"#000000\" stroke-opacity=\"1\" stroke-width=\"3.2\"/>\n<circle clip-path=\"url(#clip902)\" cx=\"598.34\" cy=\"1439.68\" r=\"14.4\" fill=\"#e26f46\" fill-rule=\"evenodd\" fill-opacity=\"1\" stroke=\"#000000\" stroke-opacity=\"1\" stroke-width=\"3.2\"/>\n<circle clip-path=\"url(#clip902)\" cx=\"651.184\" cy=\"1444.21\" r=\"14.4\" fill=\"#e26f46\" fill-rule=\"evenodd\" fill-opacity=\"1\" stroke=\"#000000\" stroke-opacity=\"1\" stroke-width=\"3.2\"/>\n<circle clip-path=\"url(#clip902)\" cx=\"704.028\" cy=\"1445.72\" r=\"14.4\" fill=\"#e26f46\" fill-rule=\"evenodd\" fill-opacity=\"1\" stroke=\"#000000\" stroke-opacity=\"1\" stroke-width=\"3.2\"/>\n<circle clip-path=\"url(#clip902)\" cx=\"756.872\" cy=\"1444.21\" r=\"14.4\" fill=\"#e26f46\" fill-rule=\"evenodd\" fill-opacity=\"1\" stroke=\"#000000\" stroke-opacity=\"1\" stroke-width=\"3.2\"/>\n<circle clip-path=\"url(#clip902)\" cx=\"809.716\" cy=\"1439.68\" r=\"14.4\" fill=\"#e26f46\" fill-rule=\"evenodd\" fill-opacity=\"1\" stroke=\"#000000\" stroke-opacity=\"1\" stroke-width=\"3.2\"/>\n<circle clip-path=\"url(#clip902)\" cx=\"862.56\" cy=\"1432.14\" r=\"14.4\" fill=\"#e26f46\" fill-rule=\"evenodd\" fill-opacity=\"1\" stroke=\"#000000\" stroke-opacity=\"1\" stroke-width=\"3.2\"/>\n<circle clip-path=\"url(#clip902)\" cx=\"915.404\" cy=\"1421.58\" r=\"14.4\" fill=\"#e26f46\" fill-rule=\"evenodd\" fill-opacity=\"1\" stroke=\"#000000\" stroke-opacity=\"1\" stroke-width=\"3.2\"/>\n<circle clip-path=\"url(#clip902)\" cx=\"968.247\" cy=\"1408\" r=\"14.4\" fill=\"#e26f46\" fill-rule=\"evenodd\" fill-opacity=\"1\" stroke=\"#000000\" stroke-opacity=\"1\" stroke-width=\"3.2\"/>\n<circle clip-path=\"url(#clip902)\" cx=\"1021.09\" cy=\"1391.41\" r=\"14.4\" fill=\"#e26f46\" fill-rule=\"evenodd\" fill-opacity=\"1\" stroke=\"#000000\" stroke-opacity=\"1\" stroke-width=\"3.2\"/>\n<circle clip-path=\"url(#clip902)\" cx=\"1073.94\" cy=\"1371.79\" r=\"14.4\" fill=\"#e26f46\" fill-rule=\"evenodd\" fill-opacity=\"1\" stroke=\"#000000\" stroke-opacity=\"1\" stroke-width=\"3.2\"/>\n<circle clip-path=\"url(#clip902)\" cx=\"1126.78\" cy=\"1349.17\" r=\"14.4\" fill=\"#e26f46\" fill-rule=\"evenodd\" fill-opacity=\"1\" stroke=\"#000000\" stroke-opacity=\"1\" stroke-width=\"3.2\"/>\n<circle clip-path=\"url(#clip902)\" cx=\"1179.62\" cy=\"1323.52\" r=\"14.4\" fill=\"#e26f46\" fill-rule=\"evenodd\" fill-opacity=\"1\" stroke=\"#000000\" stroke-opacity=\"1\" stroke-width=\"3.2\"/>\n<circle clip-path=\"url(#clip902)\" cx=\"1232.47\" cy=\"1294.86\" r=\"14.4\" fill=\"#e26f46\" fill-rule=\"evenodd\" fill-opacity=\"1\" stroke=\"#000000\" stroke-opacity=\"1\" stroke-width=\"3.2\"/>\n<circle clip-path=\"url(#clip902)\" cx=\"1285.31\" cy=\"1263.18\" r=\"14.4\" fill=\"#e26f46\" fill-rule=\"evenodd\" fill-opacity=\"1\" stroke=\"#000000\" stroke-opacity=\"1\" stroke-width=\"3.2\"/>\n<circle clip-path=\"url(#clip902)\" cx=\"1338.15\" cy=\"1228.48\" r=\"14.4\" fill=\"#e26f46\" fill-rule=\"evenodd\" fill-opacity=\"1\" stroke=\"#000000\" stroke-opacity=\"1\" stroke-width=\"3.2\"/>\n<circle clip-path=\"url(#clip902)\" cx=\"1391\" cy=\"1190.76\" r=\"14.4\" fill=\"#e26f46\" fill-rule=\"evenodd\" fill-opacity=\"1\" stroke=\"#000000\" stroke-opacity=\"1\" stroke-width=\"3.2\"/>\n<circle clip-path=\"url(#clip902)\" cx=\"1443.84\" cy=\"1150.03\" r=\"14.4\" fill=\"#e26f46\" fill-rule=\"evenodd\" fill-opacity=\"1\" stroke=\"#000000\" stroke-opacity=\"1\" stroke-width=\"3.2\"/>\n<circle clip-path=\"url(#clip902)\" cx=\"1496.69\" cy=\"1106.28\" r=\"14.4\" fill=\"#e26f46\" fill-rule=\"evenodd\" fill-opacity=\"1\" stroke=\"#000000\" stroke-opacity=\"1\" stroke-width=\"3.2\"/>\n<circle clip-path=\"url(#clip902)\" cx=\"1549.53\" cy=\"1059.51\" r=\"14.4\" fill=\"#e26f46\" fill-rule=\"evenodd\" fill-opacity=\"1\" stroke=\"#000000\" stroke-opacity=\"1\" stroke-width=\"3.2\"/>\n<circle clip-path=\"url(#clip902)\" cx=\"1602.37\" cy=\"1009.73\" r=\"14.4\" fill=\"#e26f46\" fill-rule=\"evenodd\" fill-opacity=\"1\" stroke=\"#000000\" stroke-opacity=\"1\" stroke-width=\"3.2\"/>\n<circle clip-path=\"url(#clip902)\" cx=\"1655.22\" cy=\"956.93\" r=\"14.4\" fill=\"#e26f46\" fill-rule=\"evenodd\" fill-opacity=\"1\" stroke=\"#000000\" stroke-opacity=\"1\" stroke-width=\"3.2\"/>\n<circle clip-path=\"url(#clip902)\" cx=\"1708.06\" cy=\"901.111\" r=\"14.4\" fill=\"#e26f46\" fill-rule=\"evenodd\" fill-opacity=\"1\" stroke=\"#000000\" stroke-opacity=\"1\" stroke-width=\"3.2\"/>\n<circle clip-path=\"url(#clip902)\" cx=\"1760.9\" cy=\"842.276\" r=\"14.4\" fill=\"#e26f46\" fill-rule=\"evenodd\" fill-opacity=\"1\" stroke=\"#000000\" stroke-opacity=\"1\" stroke-width=\"3.2\"/>\n<circle clip-path=\"url(#clip902)\" cx=\"1813.75\" cy=\"780.423\" r=\"14.4\" fill=\"#e26f46\" fill-rule=\"evenodd\" fill-opacity=\"1\" stroke=\"#000000\" stroke-opacity=\"1\" stroke-width=\"3.2\"/>\n<circle clip-path=\"url(#clip902)\" cx=\"1866.59\" cy=\"715.554\" r=\"14.4\" fill=\"#e26f46\" fill-rule=\"evenodd\" fill-opacity=\"1\" stroke=\"#000000\" stroke-opacity=\"1\" stroke-width=\"3.2\"/>\n<circle clip-path=\"url(#clip902)\" cx=\"1919.44\" cy=\"647.667\" r=\"14.4\" fill=\"#e26f46\" fill-rule=\"evenodd\" fill-opacity=\"1\" stroke=\"#000000\" stroke-opacity=\"1\" stroke-width=\"3.2\"/>\n<circle clip-path=\"url(#clip902)\" cx=\"1972.28\" cy=\"576.762\" r=\"14.4\" fill=\"#e26f46\" fill-rule=\"evenodd\" fill-opacity=\"1\" stroke=\"#000000\" stroke-opacity=\"1\" stroke-width=\"3.2\"/>\n<circle clip-path=\"url(#clip902)\" cx=\"2025.12\" cy=\"502.841\" r=\"14.4\" fill=\"#e26f46\" fill-rule=\"evenodd\" fill-opacity=\"1\" stroke=\"#000000\" stroke-opacity=\"1\" stroke-width=\"3.2\"/>\n<circle clip-path=\"url(#clip902)\" cx=\"2077.97\" cy=\"425.903\" r=\"14.4\" fill=\"#e26f46\" fill-rule=\"evenodd\" fill-opacity=\"1\" stroke=\"#000000\" stroke-opacity=\"1\" stroke-width=\"3.2\"/>\n<circle clip-path=\"url(#clip902)\" cx=\"2130.81\" cy=\"345.947\" r=\"14.4\" fill=\"#e26f46\" fill-rule=\"evenodd\" fill-opacity=\"1\" stroke=\"#000000\" stroke-opacity=\"1\" stroke-width=\"3.2\"/>\n<circle clip-path=\"url(#clip902)\" cx=\"2183.66\" cy=\"262.974\" r=\"14.4\" fill=\"#e26f46\" fill-rule=\"evenodd\" fill-opacity=\"1\" stroke=\"#000000\" stroke-opacity=\"1\" stroke-width=\"3.2\"/>\n<circle clip-path=\"url(#clip902)\" cx=\"2236.5\" cy=\"176.984\" r=\"14.4\" fill=\"#e26f46\" fill-rule=\"evenodd\" fill-opacity=\"1\" stroke=\"#000000\" stroke-opacity=\"1\" stroke-width=\"3.2\"/>\n<circle clip-path=\"url(#clip902)\" cx=\"2289.34\" cy=\"87.9763\" r=\"14.4\" fill=\"#e26f46\" fill-rule=\"evenodd\" fill-opacity=\"1\" stroke=\"#000000\" stroke-opacity=\"1\" stroke-width=\"3.2\"/>\n<path clip-path=\"url(#clip900)\" d=\"\nM1890.14 250.738 L2278.07 250.738 L2278.07 95.2176 L1890.14 95.2176  Z\n  \" fill=\"#ffffff\" fill-rule=\"evenodd\" fill-opacity=\"1\"/>\n<polyline clip-path=\"url(#clip900)\" style=\"stroke:#000000; stroke-linecap:round; stroke-linejoin:round; stroke-width:4; stroke-opacity:1; fill:none\" points=\"\n  1890.14,250.738 2278.07,250.738 2278.07,95.2176 1890.14,95.2176 1890.14,250.738 \n  \"/>\n<polyline clip-path=\"url(#clip900)\" style=\"stroke:#009af9; stroke-linecap:round; stroke-linejoin:round; stroke-width:4; stroke-opacity:1; fill:none\" points=\"\n  1915.03,147.058 2064.4,147.058 \n  \"/>\n<path clip-path=\"url(#clip900)\" d=\"M2089.3 128.319 L2093.56 128.319 L2093.56 164.338 L2089.3 164.338 L2089.3 128.319 Z\" fill=\"#000000\" fill-rule=\"evenodd\" fill-opacity=\"1\" /><path clip-path=\"url(#clip900)\" d=\"M2102.47 138.412 L2106.73 138.412 L2106.73 164.338 L2102.47 164.338 L2102.47 138.412 M2102.47 128.319 L2106.73 128.319 L2106.73 133.713 L2102.47 133.713 L2102.47 128.319 Z\" fill=\"#000000\" fill-rule=\"evenodd\" fill-opacity=\"1\" /><path clip-path=\"url(#clip900)\" d=\"M2137.19 148.689 L2137.19 164.338 L2132.93 164.338 L2132.93 148.828 Q2132.93 145.148 2131.5 143.319 Q2130.06 141.49 2127.19 141.49 Q2123.74 141.49 2121.75 143.69 Q2119.76 145.889 2119.76 149.685 L2119.76 164.338 L2115.48 164.338 L2115.48 138.412 L2119.76 138.412 L2119.76 142.44 Q2121.29 140.102 2123.35 138.944 Q2125.43 137.787 2128.14 137.787 Q2132.61 137.787 2134.9 140.565 Q2137.19 143.319 2137.19 148.689 Z\" fill=\"#000000\" fill-rule=\"evenodd\" fill-opacity=\"1\" /><path clip-path=\"url(#clip900)\" d=\"M2167.86 150.31 L2167.86 152.393 L2148.28 152.393 Q2148.56 156.791 2150.92 159.106 Q2153.3 161.398 2157.54 161.398 Q2159.99 161.398 2162.28 160.796 Q2164.6 160.194 2166.87 158.99 L2166.87 163.018 Q2164.58 163.99 2162.17 164.5 Q2159.76 165.009 2157.28 165.009 Q2151.08 165.009 2147.45 161.398 Q2143.84 157.787 2143.84 151.629 Q2143.84 145.264 2147.26 141.537 Q2150.71 137.787 2156.54 137.787 Q2161.78 137.787 2164.81 141.166 Q2167.86 144.523 2167.86 150.31 M2163.6 149.06 Q2163.56 145.565 2161.64 143.481 Q2159.74 141.398 2156.59 141.398 Q2153.03 141.398 2150.87 143.412 Q2148.74 145.426 2148.42 149.083 L2163.6 149.06 Z\" fill=\"#000000\" fill-rule=\"evenodd\" fill-opacity=\"1\" /><circle clip-path=\"url(#clip900)\" cx=\"1989.72\" cy=\"198.898\" r=\"23.04\" fill=\"#e26f46\" fill-rule=\"evenodd\" fill-opacity=\"1\" stroke=\"#000000\" stroke-opacity=\"1\" stroke-width=\"5.12\"/>\n<path clip-path=\"url(#clip900)\" d=\"M2093.58 212.289 L2093.58 226.039 L2089.3 226.039 L2089.3 190.252 L2093.58 190.252 L2093.58 194.187 Q2094.92 191.872 2096.96 190.761 Q2099.02 189.627 2101.87 189.627 Q2106.59 189.627 2109.53 193.377 Q2112.49 197.127 2112.49 203.238 Q2112.49 209.349 2109.53 213.099 Q2106.59 216.849 2101.87 216.849 Q2099.02 216.849 2096.96 215.738 Q2094.92 214.603 2093.58 212.289 M2108.07 203.238 Q2108.07 198.539 2106.13 195.877 Q2104.21 193.192 2100.83 193.192 Q2097.45 193.192 2095.5 195.877 Q2093.58 198.539 2093.58 203.238 Q2093.58 207.937 2095.5 210.622 Q2097.45 213.284 2100.83 213.284 Q2104.21 213.284 2106.13 210.622 Q2108.07 207.937 2108.07 203.238 Z\" fill=\"#000000\" fill-rule=\"evenodd\" fill-opacity=\"1\" /><path clip-path=\"url(#clip900)\" d=\"M2129.6 193.238 Q2126.17 193.238 2124.18 195.923 Q2122.19 198.585 2122.19 203.238 Q2122.19 207.891 2124.16 210.576 Q2126.15 213.238 2129.6 213.238 Q2133 213.238 2134.99 210.553 Q2136.98 207.867 2136.98 203.238 Q2136.98 198.631 2134.99 195.946 Q2133 193.238 2129.6 193.238 M2129.6 189.627 Q2135.15 189.627 2138.33 193.238 Q2141.5 196.849 2141.5 203.238 Q2141.5 209.604 2138.33 213.238 Q2135.15 216.849 2129.6 216.849 Q2124.02 216.849 2120.85 213.238 Q2117.7 209.604 2117.7 203.238 Q2117.7 196.849 2120.85 193.238 Q2124.02 189.627 2129.6 189.627 Z\" fill=\"#000000\" fill-rule=\"evenodd\" fill-opacity=\"1\" /><path clip-path=\"url(#clip900)\" d=\"M2148.56 190.252 L2152.82 190.252 L2152.82 216.178 L2148.56 216.178 L2148.56 190.252 M2148.56 180.159 L2152.82 180.159 L2152.82 185.553 L2148.56 185.553 L2148.56 180.159 Z\" fill=\"#000000\" fill-rule=\"evenodd\" fill-opacity=\"1\" /><path clip-path=\"url(#clip900)\" d=\"M2183.28 200.529 L2183.28 216.178 L2179.02 216.178 L2179.02 200.668 Q2179.02 196.988 2177.59 195.159 Q2176.15 193.33 2173.28 193.33 Q2169.83 193.33 2167.84 195.53 Q2165.85 197.729 2165.85 201.525 L2165.85 216.178 L2161.57 216.178 L2161.57 190.252 L2165.85 190.252 L2165.85 194.28 Q2167.38 191.942 2169.44 190.784 Q2171.52 189.627 2174.23 189.627 Q2178.7 189.627 2180.99 192.405 Q2183.28 195.159 2183.28 200.529 Z\" fill=\"#000000\" fill-rule=\"evenodd\" fill-opacity=\"1\" /><path clip-path=\"url(#clip900)\" d=\"M2195.99 182.891 L2195.99 190.252 L2204.76 190.252 L2204.76 193.562 L2195.99 193.562 L2195.99 207.636 Q2195.99 210.807 2196.84 211.71 Q2197.72 212.613 2200.39 212.613 L2204.76 212.613 L2204.76 216.178 L2200.39 216.178 Q2195.46 216.178 2193.58 214.349 Q2191.71 212.497 2191.71 207.636 L2191.71 193.562 L2188.58 193.562 L2188.58 190.252 L2191.71 190.252 L2191.71 182.891 L2195.99 182.891 Z\" fill=\"#000000\" fill-rule=\"evenodd\" fill-opacity=\"1\" /><path clip-path=\"url(#clip900)\" d=\"M2226.89 191.016 L2226.89 195.043 Q2225.08 194.117 2223.14 193.655 Q2221.2 193.192 2219.11 193.192 Q2215.94 193.192 2214.34 194.164 Q2212.77 195.136 2212.77 197.08 Q2212.77 198.562 2213.9 199.418 Q2215.04 200.252 2218.46 201.016 L2219.92 201.34 Q2224.46 202.312 2226.36 204.094 Q2228.28 205.854 2228.28 209.025 Q2228.28 212.636 2225.41 214.742 Q2222.56 216.849 2217.56 216.849 Q2215.48 216.849 2213.21 216.432 Q2210.96 216.039 2208.46 215.228 L2208.46 210.83 Q2210.83 212.057 2213.12 212.682 Q2215.41 213.284 2217.65 213.284 Q2220.66 213.284 2222.28 212.266 Q2223.9 211.224 2223.9 209.349 Q2223.9 207.613 2222.72 206.687 Q2221.57 205.761 2217.61 204.904 L2216.13 204.557 Q2212.17 203.724 2210.41 202.011 Q2208.65 200.275 2208.65 197.266 Q2208.65 193.608 2211.24 191.618 Q2213.83 189.627 2218.6 189.627 Q2220.96 189.627 2223.05 189.974 Q2225.13 190.321 2226.89 191.016 Z\" fill=\"#000000\" fill-rule=\"evenodd\" fill-opacity=\"1\" /></svg>\n",
      "text/html": [
       "<?xml version=\"1.0\" encoding=\"utf-8\"?>\n",
       "<svg xmlns=\"http://www.w3.org/2000/svg\" xmlns:xlink=\"http://www.w3.org/1999/xlink\" width=\"600\" height=\"400\" viewBox=\"0 0 2400 1600\">\n",
       "<defs>\n",
       "  <clipPath id=\"clip950\">\n",
       "    <rect x=\"0\" y=\"0\" width=\"2400\" height=\"1600\"/>\n",
       "  </clipPath>\n",
       "</defs>\n",
       "<path clip-path=\"url(#clip950)\" d=\"\n",
       "M0 1600 L2400 1600 L2400 0 L0 0  Z\n",
       "  \" fill=\"#ffffff\" fill-rule=\"evenodd\" fill-opacity=\"1\"/>\n",
       "<defs>\n",
       "  <clipPath id=\"clip951\">\n",
       "    <rect x=\"480\" y=\"0\" width=\"1681\" height=\"1600\"/>\n",
       "  </clipPath>\n",
       "</defs>\n",
       "<path clip-path=\"url(#clip950)\" d=\"\n",
       "M112.177 1486.45 L2352.76 1486.45 L2352.76 47.2441 L112.177 47.2441  Z\n",
       "  \" fill=\"#ffffff\" fill-rule=\"evenodd\" fill-opacity=\"1\"/>\n",
       "<defs>\n",
       "  <clipPath id=\"clip952\">\n",
       "    <rect x=\"112\" y=\"47\" width=\"2242\" height=\"1440\"/>\n",
       "  </clipPath>\n",
       "</defs>\n",
       "<polyline clip-path=\"url(#clip952)\" style=\"stroke:#000000; stroke-linecap:round; stroke-linejoin:round; stroke-width:2; stroke-opacity:0.1; fill:none\" points=\"\n",
       "  175.59,1486.45 175.59,47.2441 \n",
       "  \"/>\n",
       "<polyline clip-path=\"url(#clip952)\" style=\"stroke:#000000; stroke-linecap:round; stroke-linejoin:round; stroke-width:2; stroke-opacity:0.1; fill:none\" points=\"\n",
       "  704.028,1486.45 704.028,47.2441 \n",
       "  \"/>\n",
       "<polyline clip-path=\"url(#clip952)\" style=\"stroke:#000000; stroke-linecap:round; stroke-linejoin:round; stroke-width:2; stroke-opacity:0.1; fill:none\" points=\"\n",
       "  1232.47,1486.45 1232.47,47.2441 \n",
       "  \"/>\n",
       "<polyline clip-path=\"url(#clip952)\" style=\"stroke:#000000; stroke-linecap:round; stroke-linejoin:round; stroke-width:2; stroke-opacity:0.1; fill:none\" points=\"\n",
       "  1760.9,1486.45 1760.9,47.2441 \n",
       "  \"/>\n",
       "<polyline clip-path=\"url(#clip952)\" style=\"stroke:#000000; stroke-linecap:round; stroke-linejoin:round; stroke-width:2; stroke-opacity:0.1; fill:none\" points=\"\n",
       "  2289.34,1486.45 2289.34,47.2441 \n",
       "  \"/>\n",
       "<polyline clip-path=\"url(#clip950)\" style=\"stroke:#000000; stroke-linecap:round; stroke-linejoin:round; stroke-width:4; stroke-opacity:1; fill:none\" points=\"\n",
       "  112.177,1486.45 2352.76,1486.45 \n",
       "  \"/>\n",
       "<polyline clip-path=\"url(#clip950)\" style=\"stroke:#000000; stroke-linecap:round; stroke-linejoin:round; stroke-width:4; stroke-opacity:1; fill:none\" points=\"\n",
       "  175.59,1486.45 175.59,1467.55 \n",
       "  \"/>\n",
       "<polyline clip-path=\"url(#clip950)\" style=\"stroke:#000000; stroke-linecap:round; stroke-linejoin:round; stroke-width:4; stroke-opacity:1; fill:none\" points=\"\n",
       "  704.028,1486.45 704.028,1467.55 \n",
       "  \"/>\n",
       "<polyline clip-path=\"url(#clip950)\" style=\"stroke:#000000; stroke-linecap:round; stroke-linejoin:round; stroke-width:4; stroke-opacity:1; fill:none\" points=\"\n",
       "  1232.47,1486.45 1232.47,1467.55 \n",
       "  \"/>\n",
       "<polyline clip-path=\"url(#clip950)\" style=\"stroke:#000000; stroke-linecap:round; stroke-linejoin:round; stroke-width:4; stroke-opacity:1; fill:none\" points=\"\n",
       "  1760.9,1486.45 1760.9,1467.55 \n",
       "  \"/>\n",
       "<polyline clip-path=\"url(#clip950)\" style=\"stroke:#000000; stroke-linecap:round; stroke-linejoin:round; stroke-width:4; stroke-opacity:1; fill:none\" points=\"\n",
       "  2289.34,1486.45 2289.34,1467.55 \n",
       "  \"/>\n",
       "<path clip-path=\"url(#clip950)\" d=\"M145.347 1532.02 L175.023 1532.02 L175.023 1535.95 L145.347 1535.95 L145.347 1532.02 Z\" fill=\"#000000\" fill-rule=\"evenodd\" fill-opacity=\"1\" /><path clip-path=\"url(#clip950)\" d=\"M185.925 1544.91 L193.564 1544.91 L193.564 1518.55 L185.254 1520.21 L185.254 1515.95 L193.518 1514.29 L198.194 1514.29 L198.194 1544.91 L205.833 1544.91 L205.833 1548.85 L185.925 1548.85 L185.925 1544.91 Z\" fill=\"#000000\" fill-rule=\"evenodd\" fill-opacity=\"1\" /><path clip-path=\"url(#clip950)\" d=\"M704.028 1517.37 Q700.417 1517.37 698.588 1520.93 Q696.783 1524.47 696.783 1531.6 Q696.783 1538.71 698.588 1542.27 Q700.417 1545.82 704.028 1545.82 Q707.662 1545.82 709.468 1542.27 Q711.297 1538.71 711.297 1531.6 Q711.297 1524.47 709.468 1520.93 Q707.662 1517.37 704.028 1517.37 M704.028 1513.66 Q709.838 1513.66 712.894 1518.27 Q715.973 1522.85 715.973 1531.6 Q715.973 1540.33 712.894 1544.94 Q709.838 1549.52 704.028 1549.52 Q698.218 1549.52 695.139 1544.94 Q692.084 1540.33 692.084 1531.6 Q692.084 1522.85 695.139 1518.27 Q698.218 1513.66 704.028 1513.66 Z\" fill=\"#000000\" fill-rule=\"evenodd\" fill-opacity=\"1\" /><path clip-path=\"url(#clip950)\" d=\"M1222.85 1544.91 L1230.49 1544.91 L1230.49 1518.55 L1222.18 1520.21 L1222.18 1515.95 L1230.44 1514.29 L1235.12 1514.29 L1235.12 1544.91 L1242.76 1544.91 L1242.76 1548.85 L1222.85 1548.85 L1222.85 1544.91 Z\" fill=\"#000000\" fill-rule=\"evenodd\" fill-opacity=\"1\" /><path clip-path=\"url(#clip950)\" d=\"M1755.56 1544.91 L1771.88 1544.91 L1771.88 1548.85 L1749.93 1548.85 L1749.93 1544.91 Q1752.59 1542.16 1757.18 1537.53 Q1761.78 1532.88 1762.97 1531.53 Q1765.21 1529.01 1766.09 1527.27 Q1766.99 1525.51 1766.99 1523.82 Q1766.99 1521.07 1765.05 1519.33 Q1763.13 1517.6 1760.03 1517.6 Q1757.83 1517.6 1755.37 1518.36 Q1752.94 1519.13 1750.16 1520.68 L1750.16 1515.95 Q1752.99 1514.82 1755.44 1514.24 Q1757.9 1513.66 1759.93 1513.66 Q1765.3 1513.66 1768.5 1516.35 Q1771.69 1519.03 1771.69 1523.52 Q1771.69 1525.65 1770.88 1527.57 Q1770.09 1529.47 1767.99 1532.07 Q1767.41 1532.74 1764.31 1535.95 Q1761.21 1539.15 1755.56 1544.91 Z\" fill=\"#000000\" fill-rule=\"evenodd\" fill-opacity=\"1\" /><path clip-path=\"url(#clip950)\" d=\"M2293.59 1530.21 Q2296.95 1530.93 2298.82 1533.2 Q2300.72 1535.47 2300.72 1538.8 Q2300.72 1543.92 2297.2 1546.72 Q2293.68 1549.52 2287.2 1549.52 Q2285.03 1549.52 2282.71 1549.08 Q2280.42 1548.66 2277.97 1547.81 L2277.97 1543.29 Q2279.91 1544.43 2282.23 1545.01 Q2284.54 1545.58 2287.06 1545.58 Q2291.46 1545.58 2293.75 1543.85 Q2296.07 1542.11 2296.07 1538.8 Q2296.07 1535.75 2293.92 1534.03 Q2291.79 1532.3 2287.97 1532.3 L2283.94 1532.3 L2283.94 1528.45 L2288.15 1528.45 Q2291.6 1528.45 2293.43 1527.09 Q2295.26 1525.7 2295.26 1523.11 Q2295.26 1520.45 2293.36 1519.03 Q2291.48 1517.6 2287.97 1517.6 Q2286.04 1517.6 2283.85 1518.01 Q2281.65 1518.43 2279.01 1519.31 L2279.01 1515.14 Q2281.67 1514.4 2283.98 1514.03 Q2286.32 1513.66 2288.38 1513.66 Q2293.71 1513.66 2296.81 1516.09 Q2299.91 1518.5 2299.91 1522.62 Q2299.91 1525.49 2298.27 1527.48 Q2296.62 1529.45 2293.59 1530.21 Z\" fill=\"#000000\" fill-rule=\"evenodd\" fill-opacity=\"1\" /><polyline clip-path=\"url(#clip952)\" style=\"stroke:#000000; stroke-linecap:round; stroke-linejoin:round; stroke-width:2; stroke-opacity:0.1; fill:none\" points=\"\n",
       "  112.177,1445.72 2352.76,1445.72 \n",
       "  \"/>\n",
       "<polyline clip-path=\"url(#clip952)\" style=\"stroke:#000000; stroke-linecap:round; stroke-linejoin:round; stroke-width:2; stroke-opacity:0.1; fill:none\" points=\"\n",
       "  112.177,1144 2352.76,1144 \n",
       "  \"/>\n",
       "<polyline clip-path=\"url(#clip952)\" style=\"stroke:#000000; stroke-linecap:round; stroke-linejoin:round; stroke-width:2; stroke-opacity:0.1; fill:none\" points=\"\n",
       "  112.177,842.276 2352.76,842.276 \n",
       "  \"/>\n",
       "<polyline clip-path=\"url(#clip952)\" style=\"stroke:#000000; stroke-linecap:round; stroke-linejoin:round; stroke-width:2; stroke-opacity:0.1; fill:none\" points=\"\n",
       "  112.177,540.556 2352.76,540.556 \n",
       "  \"/>\n",
       "<polyline clip-path=\"url(#clip952)\" style=\"stroke:#000000; stroke-linecap:round; stroke-linejoin:round; stroke-width:2; stroke-opacity:0.1; fill:none\" points=\"\n",
       "  112.177,238.836 2352.76,238.836 \n",
       "  \"/>\n",
       "<polyline clip-path=\"url(#clip950)\" style=\"stroke:#000000; stroke-linecap:round; stroke-linejoin:round; stroke-width:4; stroke-opacity:1; fill:none\" points=\"\n",
       "  112.177,1486.45 112.177,47.2441 \n",
       "  \"/>\n",
       "<polyline clip-path=\"url(#clip950)\" style=\"stroke:#000000; stroke-linecap:round; stroke-linejoin:round; stroke-width:4; stroke-opacity:1; fill:none\" points=\"\n",
       "  112.177,1445.72 131.075,1445.72 \n",
       "  \"/>\n",
       "<polyline clip-path=\"url(#clip950)\" style=\"stroke:#000000; stroke-linecap:round; stroke-linejoin:round; stroke-width:4; stroke-opacity:1; fill:none\" points=\"\n",
       "  112.177,1144 131.075,1144 \n",
       "  \"/>\n",
       "<polyline clip-path=\"url(#clip950)\" style=\"stroke:#000000; stroke-linecap:round; stroke-linejoin:round; stroke-width:4; stroke-opacity:1; fill:none\" points=\"\n",
       "  112.177,842.276 131.075,842.276 \n",
       "  \"/>\n",
       "<polyline clip-path=\"url(#clip950)\" style=\"stroke:#000000; stroke-linecap:round; stroke-linejoin:round; stroke-width:4; stroke-opacity:1; fill:none\" points=\"\n",
       "  112.177,540.556 131.075,540.556 \n",
       "  \"/>\n",
       "<polyline clip-path=\"url(#clip950)\" style=\"stroke:#000000; stroke-linecap:round; stroke-linejoin:round; stroke-width:4; stroke-opacity:1; fill:none\" points=\"\n",
       "  112.177,238.836 131.075,238.836 \n",
       "  \"/>\n",
       "<path clip-path=\"url(#clip950)\" d=\"M64.2328 1431.51 Q60.6217 1431.51 58.793 1435.08 Q56.9875 1438.62 56.9875 1445.75 Q56.9875 1452.86 58.793 1456.42 Q60.6217 1459.96 64.2328 1459.96 Q67.867 1459.96 69.6726 1456.42 Q71.5013 1452.86 71.5013 1445.75 Q71.5013 1438.62 69.6726 1435.08 Q67.867 1431.51 64.2328 1431.51 M64.2328 1427.81 Q70.0429 1427.81 73.0985 1432.42 Q76.1772 1437 76.1772 1445.75 Q76.1772 1454.48 73.0985 1459.08 Q70.0429 1463.67 64.2328 1463.67 Q58.4226 1463.67 55.344 1459.08 Q52.2884 1454.48 52.2884 1445.75 Q52.2884 1437 55.344 1432.42 Q58.4226 1427.81 64.2328 1427.81 Z\" fill=\"#000000\" fill-rule=\"evenodd\" fill-opacity=\"1\" /><path clip-path=\"url(#clip950)\" d=\"M59.8578 1157.34 L76.1772 1157.34 L76.1772 1161.28 L54.2328 1161.28 L54.2328 1157.34 Q56.8949 1154.59 61.4782 1149.96 Q66.0846 1145.3 67.2652 1143.96 Q69.5105 1141.44 70.3902 1139.7 Q71.2929 1137.94 71.2929 1136.25 Q71.2929 1133.5 69.3485 1131.76 Q67.4272 1130.03 64.3254 1130.03 Q62.1263 1130.03 59.6726 1130.79 Q57.2421 1131.55 54.4643 1133.1 L54.4643 1128.38 Q57.2884 1127.25 59.7421 1126.67 Q62.1958 1126.09 64.2328 1126.09 Q69.6031 1126.09 72.7976 1128.78 Q75.992 1131.46 75.992 1135.95 Q75.992 1138.08 75.1818 1140 Q74.3948 1141.9 72.2883 1144.49 Q71.7096 1145.16 68.6078 1148.38 Q65.5059 1151.58 59.8578 1157.34 Z\" fill=\"#000000\" fill-rule=\"evenodd\" fill-opacity=\"1\" /><path clip-path=\"url(#clip950)\" d=\"M66.5939 829.07 L54.7884 847.519 L66.5939 847.519 L66.5939 829.07 M65.367 824.996 L71.2466 824.996 L71.2466 847.519 L76.1772 847.519 L76.1772 851.408 L71.2466 851.408 L71.2466 859.556 L66.5939 859.556 L66.5939 851.408 L50.9921 851.408 L50.9921 846.894 L65.367 824.996 Z\" fill=\"#000000\" fill-rule=\"evenodd\" fill-opacity=\"1\" /><path clip-path=\"url(#clip950)\" d=\"M64.6495 538.693 Q61.5013 538.693 59.6495 540.845 Q57.8208 542.998 57.8208 546.748 Q57.8208 550.475 59.6495 552.651 Q61.5013 554.804 64.6495 554.804 Q67.7976 554.804 69.6263 552.651 Q71.4781 550.475 71.4781 546.748 Q71.4781 542.998 69.6263 540.845 Q67.7976 538.693 64.6495 538.693 M73.9318 524.04 L73.9318 528.299 Q72.1726 527.466 70.367 527.026 Q68.5846 526.586 66.8254 526.586 Q62.1958 526.586 59.7421 529.711 Q57.3115 532.836 56.9643 539.156 Q58.33 537.142 60.3902 536.077 Q62.4504 534.989 64.9272 534.989 Q70.1355 534.989 73.1448 538.16 Q76.1772 541.308 76.1772 546.748 Q76.1772 552.072 73.029 555.29 Q69.8809 558.507 64.6495 558.507 Q58.6541 558.507 55.4828 553.924 Q52.3116 549.318 52.3116 540.591 Q52.3116 532.396 56.2004 527.535 Q60.0893 522.651 66.6402 522.651 Q68.3994 522.651 70.1818 522.998 Q71.9874 523.346 73.9318 524.04 Z\" fill=\"#000000\" fill-rule=\"evenodd\" fill-opacity=\"1\" /><path clip-path=\"url(#clip950)\" d=\"M64.3254 239.704 Q60.9921 239.704 59.0708 241.487 Q57.1726 243.269 57.1726 246.394 Q57.1726 249.519 59.0708 251.301 Q60.9921 253.084 64.3254 253.084 Q67.6587 253.084 69.58 251.301 Q71.5013 249.496 71.5013 246.394 Q71.5013 243.269 69.58 241.487 Q67.6819 239.704 64.3254 239.704 M59.6495 237.714 Q56.6402 236.973 54.9504 234.913 Q53.2838 232.852 53.2838 229.89 Q53.2838 225.746 56.2236 223.339 Q59.1865 220.931 64.3254 220.931 Q69.4874 220.931 72.4272 223.339 Q75.367 225.746 75.367 229.89 Q75.367 232.852 73.6772 234.913 Q72.0105 236.973 69.0244 237.714 Q72.404 238.501 74.279 240.792 Q76.1772 243.084 76.1772 246.394 Q76.1772 251.417 73.0985 254.102 Q70.0429 256.788 64.3254 256.788 Q58.6078 256.788 55.5291 254.102 Q52.4736 251.417 52.4736 246.394 Q52.4736 243.084 54.3717 240.792 Q56.2699 238.501 59.6495 237.714 M57.9365 230.329 Q57.9365 233.014 59.6032 234.519 Q61.293 236.024 64.3254 236.024 Q67.3346 236.024 69.0244 234.519 Q70.7374 233.014 70.7374 230.329 Q70.7374 227.644 69.0244 226.14 Q67.3346 224.635 64.3254 224.635 Q61.293 224.635 59.6032 226.14 Q57.9365 227.644 57.9365 230.329 Z\" fill=\"#000000\" fill-rule=\"evenodd\" fill-opacity=\"1\" /><polyline clip-path=\"url(#clip952)\" style=\"stroke:#009af9; stroke-linecap:round; stroke-linejoin:round; stroke-width:4; stroke-opacity:1; fill:none\" points=\"\n",
       "  175.59,1294.86 228.434,1323.52 281.277,1349.17 334.121,1371.79 386.965,1391.41 439.809,1408 492.653,1421.58 545.497,1432.14 598.34,1439.68 651.184,1444.21 \n",
       "  704.028,1445.72 756.872,1444.21 809.716,1439.68 862.56,1432.14 915.404,1421.58 968.247,1408 1021.09,1391.41 1073.94,1371.79 1126.78,1349.17 1179.62,1323.52 \n",
       "  1232.47,1294.86 1285.31,1263.18 1338.15,1228.48 1391,1190.76 1443.84,1150.03 1496.69,1106.28 1549.53,1059.51 1602.37,1009.73 1655.22,956.93 1708.06,901.111 \n",
       "  1760.9,842.276 1813.75,780.423 1866.59,715.554 1919.44,647.667 1972.28,576.762 2025.12,502.841 2077.97,425.903 2130.81,345.947 2183.66,262.974 2236.5,176.984 \n",
       "  2289.34,87.9763 \n",
       "  \"/>\n",
       "<circle clip-path=\"url(#clip952)\" cx=\"175.59\" cy=\"1294.86\" r=\"14.4\" fill=\"#e26f46\" fill-rule=\"evenodd\" fill-opacity=\"1\" stroke=\"#000000\" stroke-opacity=\"1\" stroke-width=\"3.2\"/>\n",
       "<circle clip-path=\"url(#clip952)\" cx=\"228.434\" cy=\"1323.52\" r=\"14.4\" fill=\"#e26f46\" fill-rule=\"evenodd\" fill-opacity=\"1\" stroke=\"#000000\" stroke-opacity=\"1\" stroke-width=\"3.2\"/>\n",
       "<circle clip-path=\"url(#clip952)\" cx=\"281.277\" cy=\"1349.17\" r=\"14.4\" fill=\"#e26f46\" fill-rule=\"evenodd\" fill-opacity=\"1\" stroke=\"#000000\" stroke-opacity=\"1\" stroke-width=\"3.2\"/>\n",
       "<circle clip-path=\"url(#clip952)\" cx=\"334.121\" cy=\"1371.79\" r=\"14.4\" fill=\"#e26f46\" fill-rule=\"evenodd\" fill-opacity=\"1\" stroke=\"#000000\" stroke-opacity=\"1\" stroke-width=\"3.2\"/>\n",
       "<circle clip-path=\"url(#clip952)\" cx=\"386.965\" cy=\"1391.41\" r=\"14.4\" fill=\"#e26f46\" fill-rule=\"evenodd\" fill-opacity=\"1\" stroke=\"#000000\" stroke-opacity=\"1\" stroke-width=\"3.2\"/>\n",
       "<circle clip-path=\"url(#clip952)\" cx=\"439.809\" cy=\"1408\" r=\"14.4\" fill=\"#e26f46\" fill-rule=\"evenodd\" fill-opacity=\"1\" stroke=\"#000000\" stroke-opacity=\"1\" stroke-width=\"3.2\"/>\n",
       "<circle clip-path=\"url(#clip952)\" cx=\"492.653\" cy=\"1421.58\" r=\"14.4\" fill=\"#e26f46\" fill-rule=\"evenodd\" fill-opacity=\"1\" stroke=\"#000000\" stroke-opacity=\"1\" stroke-width=\"3.2\"/>\n",
       "<circle clip-path=\"url(#clip952)\" cx=\"545.497\" cy=\"1432.14\" r=\"14.4\" fill=\"#e26f46\" fill-rule=\"evenodd\" fill-opacity=\"1\" stroke=\"#000000\" stroke-opacity=\"1\" stroke-width=\"3.2\"/>\n",
       "<circle clip-path=\"url(#clip952)\" cx=\"598.34\" cy=\"1439.68\" r=\"14.4\" fill=\"#e26f46\" fill-rule=\"evenodd\" fill-opacity=\"1\" stroke=\"#000000\" stroke-opacity=\"1\" stroke-width=\"3.2\"/>\n",
       "<circle clip-path=\"url(#clip952)\" cx=\"651.184\" cy=\"1444.21\" r=\"14.4\" fill=\"#e26f46\" fill-rule=\"evenodd\" fill-opacity=\"1\" stroke=\"#000000\" stroke-opacity=\"1\" stroke-width=\"3.2\"/>\n",
       "<circle clip-path=\"url(#clip952)\" cx=\"704.028\" cy=\"1445.72\" r=\"14.4\" fill=\"#e26f46\" fill-rule=\"evenodd\" fill-opacity=\"1\" stroke=\"#000000\" stroke-opacity=\"1\" stroke-width=\"3.2\"/>\n",
       "<circle clip-path=\"url(#clip952)\" cx=\"756.872\" cy=\"1444.21\" r=\"14.4\" fill=\"#e26f46\" fill-rule=\"evenodd\" fill-opacity=\"1\" stroke=\"#000000\" stroke-opacity=\"1\" stroke-width=\"3.2\"/>\n",
       "<circle clip-path=\"url(#clip952)\" cx=\"809.716\" cy=\"1439.68\" r=\"14.4\" fill=\"#e26f46\" fill-rule=\"evenodd\" fill-opacity=\"1\" stroke=\"#000000\" stroke-opacity=\"1\" stroke-width=\"3.2\"/>\n",
       "<circle clip-path=\"url(#clip952)\" cx=\"862.56\" cy=\"1432.14\" r=\"14.4\" fill=\"#e26f46\" fill-rule=\"evenodd\" fill-opacity=\"1\" stroke=\"#000000\" stroke-opacity=\"1\" stroke-width=\"3.2\"/>\n",
       "<circle clip-path=\"url(#clip952)\" cx=\"915.404\" cy=\"1421.58\" r=\"14.4\" fill=\"#e26f46\" fill-rule=\"evenodd\" fill-opacity=\"1\" stroke=\"#000000\" stroke-opacity=\"1\" stroke-width=\"3.2\"/>\n",
       "<circle clip-path=\"url(#clip952)\" cx=\"968.247\" cy=\"1408\" r=\"14.4\" fill=\"#e26f46\" fill-rule=\"evenodd\" fill-opacity=\"1\" stroke=\"#000000\" stroke-opacity=\"1\" stroke-width=\"3.2\"/>\n",
       "<circle clip-path=\"url(#clip952)\" cx=\"1021.09\" cy=\"1391.41\" r=\"14.4\" fill=\"#e26f46\" fill-rule=\"evenodd\" fill-opacity=\"1\" stroke=\"#000000\" stroke-opacity=\"1\" stroke-width=\"3.2\"/>\n",
       "<circle clip-path=\"url(#clip952)\" cx=\"1073.94\" cy=\"1371.79\" r=\"14.4\" fill=\"#e26f46\" fill-rule=\"evenodd\" fill-opacity=\"1\" stroke=\"#000000\" stroke-opacity=\"1\" stroke-width=\"3.2\"/>\n",
       "<circle clip-path=\"url(#clip952)\" cx=\"1126.78\" cy=\"1349.17\" r=\"14.4\" fill=\"#e26f46\" fill-rule=\"evenodd\" fill-opacity=\"1\" stroke=\"#000000\" stroke-opacity=\"1\" stroke-width=\"3.2\"/>\n",
       "<circle clip-path=\"url(#clip952)\" cx=\"1179.62\" cy=\"1323.52\" r=\"14.4\" fill=\"#e26f46\" fill-rule=\"evenodd\" fill-opacity=\"1\" stroke=\"#000000\" stroke-opacity=\"1\" stroke-width=\"3.2\"/>\n",
       "<circle clip-path=\"url(#clip952)\" cx=\"1232.47\" cy=\"1294.86\" r=\"14.4\" fill=\"#e26f46\" fill-rule=\"evenodd\" fill-opacity=\"1\" stroke=\"#000000\" stroke-opacity=\"1\" stroke-width=\"3.2\"/>\n",
       "<circle clip-path=\"url(#clip952)\" cx=\"1285.31\" cy=\"1263.18\" r=\"14.4\" fill=\"#e26f46\" fill-rule=\"evenodd\" fill-opacity=\"1\" stroke=\"#000000\" stroke-opacity=\"1\" stroke-width=\"3.2\"/>\n",
       "<circle clip-path=\"url(#clip952)\" cx=\"1338.15\" cy=\"1228.48\" r=\"14.4\" fill=\"#e26f46\" fill-rule=\"evenodd\" fill-opacity=\"1\" stroke=\"#000000\" stroke-opacity=\"1\" stroke-width=\"3.2\"/>\n",
       "<circle clip-path=\"url(#clip952)\" cx=\"1391\" cy=\"1190.76\" r=\"14.4\" fill=\"#e26f46\" fill-rule=\"evenodd\" fill-opacity=\"1\" stroke=\"#000000\" stroke-opacity=\"1\" stroke-width=\"3.2\"/>\n",
       "<circle clip-path=\"url(#clip952)\" cx=\"1443.84\" cy=\"1150.03\" r=\"14.4\" fill=\"#e26f46\" fill-rule=\"evenodd\" fill-opacity=\"1\" stroke=\"#000000\" stroke-opacity=\"1\" stroke-width=\"3.2\"/>\n",
       "<circle clip-path=\"url(#clip952)\" cx=\"1496.69\" cy=\"1106.28\" r=\"14.4\" fill=\"#e26f46\" fill-rule=\"evenodd\" fill-opacity=\"1\" stroke=\"#000000\" stroke-opacity=\"1\" stroke-width=\"3.2\"/>\n",
       "<circle clip-path=\"url(#clip952)\" cx=\"1549.53\" cy=\"1059.51\" r=\"14.4\" fill=\"#e26f46\" fill-rule=\"evenodd\" fill-opacity=\"1\" stroke=\"#000000\" stroke-opacity=\"1\" stroke-width=\"3.2\"/>\n",
       "<circle clip-path=\"url(#clip952)\" cx=\"1602.37\" cy=\"1009.73\" r=\"14.4\" fill=\"#e26f46\" fill-rule=\"evenodd\" fill-opacity=\"1\" stroke=\"#000000\" stroke-opacity=\"1\" stroke-width=\"3.2\"/>\n",
       "<circle clip-path=\"url(#clip952)\" cx=\"1655.22\" cy=\"956.93\" r=\"14.4\" fill=\"#e26f46\" fill-rule=\"evenodd\" fill-opacity=\"1\" stroke=\"#000000\" stroke-opacity=\"1\" stroke-width=\"3.2\"/>\n",
       "<circle clip-path=\"url(#clip952)\" cx=\"1708.06\" cy=\"901.111\" r=\"14.4\" fill=\"#e26f46\" fill-rule=\"evenodd\" fill-opacity=\"1\" stroke=\"#000000\" stroke-opacity=\"1\" stroke-width=\"3.2\"/>\n",
       "<circle clip-path=\"url(#clip952)\" cx=\"1760.9\" cy=\"842.276\" r=\"14.4\" fill=\"#e26f46\" fill-rule=\"evenodd\" fill-opacity=\"1\" stroke=\"#000000\" stroke-opacity=\"1\" stroke-width=\"3.2\"/>\n",
       "<circle clip-path=\"url(#clip952)\" cx=\"1813.75\" cy=\"780.423\" r=\"14.4\" fill=\"#e26f46\" fill-rule=\"evenodd\" fill-opacity=\"1\" stroke=\"#000000\" stroke-opacity=\"1\" stroke-width=\"3.2\"/>\n",
       "<circle clip-path=\"url(#clip952)\" cx=\"1866.59\" cy=\"715.554\" r=\"14.4\" fill=\"#e26f46\" fill-rule=\"evenodd\" fill-opacity=\"1\" stroke=\"#000000\" stroke-opacity=\"1\" stroke-width=\"3.2\"/>\n",
       "<circle clip-path=\"url(#clip952)\" cx=\"1919.44\" cy=\"647.667\" r=\"14.4\" fill=\"#e26f46\" fill-rule=\"evenodd\" fill-opacity=\"1\" stroke=\"#000000\" stroke-opacity=\"1\" stroke-width=\"3.2\"/>\n",
       "<circle clip-path=\"url(#clip952)\" cx=\"1972.28\" cy=\"576.762\" r=\"14.4\" fill=\"#e26f46\" fill-rule=\"evenodd\" fill-opacity=\"1\" stroke=\"#000000\" stroke-opacity=\"1\" stroke-width=\"3.2\"/>\n",
       "<circle clip-path=\"url(#clip952)\" cx=\"2025.12\" cy=\"502.841\" r=\"14.4\" fill=\"#e26f46\" fill-rule=\"evenodd\" fill-opacity=\"1\" stroke=\"#000000\" stroke-opacity=\"1\" stroke-width=\"3.2\"/>\n",
       "<circle clip-path=\"url(#clip952)\" cx=\"2077.97\" cy=\"425.903\" r=\"14.4\" fill=\"#e26f46\" fill-rule=\"evenodd\" fill-opacity=\"1\" stroke=\"#000000\" stroke-opacity=\"1\" stroke-width=\"3.2\"/>\n",
       "<circle clip-path=\"url(#clip952)\" cx=\"2130.81\" cy=\"345.947\" r=\"14.4\" fill=\"#e26f46\" fill-rule=\"evenodd\" fill-opacity=\"1\" stroke=\"#000000\" stroke-opacity=\"1\" stroke-width=\"3.2\"/>\n",
       "<circle clip-path=\"url(#clip952)\" cx=\"2183.66\" cy=\"262.974\" r=\"14.4\" fill=\"#e26f46\" fill-rule=\"evenodd\" fill-opacity=\"1\" stroke=\"#000000\" stroke-opacity=\"1\" stroke-width=\"3.2\"/>\n",
       "<circle clip-path=\"url(#clip952)\" cx=\"2236.5\" cy=\"176.984\" r=\"14.4\" fill=\"#e26f46\" fill-rule=\"evenodd\" fill-opacity=\"1\" stroke=\"#000000\" stroke-opacity=\"1\" stroke-width=\"3.2\"/>\n",
       "<circle clip-path=\"url(#clip952)\" cx=\"2289.34\" cy=\"87.9763\" r=\"14.4\" fill=\"#e26f46\" fill-rule=\"evenodd\" fill-opacity=\"1\" stroke=\"#000000\" stroke-opacity=\"1\" stroke-width=\"3.2\"/>\n",
       "<path clip-path=\"url(#clip950)\" d=\"\n",
       "M1890.14 250.738 L2278.07 250.738 L2278.07 95.2176 L1890.14 95.2176  Z\n",
       "  \" fill=\"#ffffff\" fill-rule=\"evenodd\" fill-opacity=\"1\"/>\n",
       "<polyline clip-path=\"url(#clip950)\" style=\"stroke:#000000; stroke-linecap:round; stroke-linejoin:round; stroke-width:4; stroke-opacity:1; fill:none\" points=\"\n",
       "  1890.14,250.738 2278.07,250.738 2278.07,95.2176 1890.14,95.2176 1890.14,250.738 \n",
       "  \"/>\n",
       "<polyline clip-path=\"url(#clip950)\" style=\"stroke:#009af9; stroke-linecap:round; stroke-linejoin:round; stroke-width:4; stroke-opacity:1; fill:none\" points=\"\n",
       "  1915.03,147.058 2064.4,147.058 \n",
       "  \"/>\n",
       "<path clip-path=\"url(#clip950)\" d=\"M2089.3 128.319 L2093.56 128.319 L2093.56 164.338 L2089.3 164.338 L2089.3 128.319 Z\" fill=\"#000000\" fill-rule=\"evenodd\" fill-opacity=\"1\" /><path clip-path=\"url(#clip950)\" d=\"M2102.47 138.412 L2106.73 138.412 L2106.73 164.338 L2102.47 164.338 L2102.47 138.412 M2102.47 128.319 L2106.73 128.319 L2106.73 133.713 L2102.47 133.713 L2102.47 128.319 Z\" fill=\"#000000\" fill-rule=\"evenodd\" fill-opacity=\"1\" /><path clip-path=\"url(#clip950)\" d=\"M2137.19 148.689 L2137.19 164.338 L2132.93 164.338 L2132.93 148.828 Q2132.93 145.148 2131.5 143.319 Q2130.06 141.49 2127.19 141.49 Q2123.74 141.49 2121.75 143.69 Q2119.76 145.889 2119.76 149.685 L2119.76 164.338 L2115.48 164.338 L2115.48 138.412 L2119.76 138.412 L2119.76 142.44 Q2121.29 140.102 2123.35 138.944 Q2125.43 137.787 2128.14 137.787 Q2132.61 137.787 2134.9 140.565 Q2137.19 143.319 2137.19 148.689 Z\" fill=\"#000000\" fill-rule=\"evenodd\" fill-opacity=\"1\" /><path clip-path=\"url(#clip950)\" d=\"M2167.86 150.31 L2167.86 152.393 L2148.28 152.393 Q2148.56 156.791 2150.92 159.106 Q2153.3 161.398 2157.54 161.398 Q2159.99 161.398 2162.28 160.796 Q2164.6 160.194 2166.87 158.99 L2166.87 163.018 Q2164.58 163.99 2162.17 164.5 Q2159.76 165.009 2157.28 165.009 Q2151.08 165.009 2147.45 161.398 Q2143.84 157.787 2143.84 151.629 Q2143.84 145.264 2147.26 141.537 Q2150.71 137.787 2156.54 137.787 Q2161.78 137.787 2164.81 141.166 Q2167.86 144.523 2167.86 150.31 M2163.6 149.06 Q2163.56 145.565 2161.64 143.481 Q2159.74 141.398 2156.59 141.398 Q2153.03 141.398 2150.87 143.412 Q2148.74 145.426 2148.42 149.083 L2163.6 149.06 Z\" fill=\"#000000\" fill-rule=\"evenodd\" fill-opacity=\"1\" /><circle clip-path=\"url(#clip950)\" cx=\"1989.72\" cy=\"198.898\" r=\"23.04\" fill=\"#e26f46\" fill-rule=\"evenodd\" fill-opacity=\"1\" stroke=\"#000000\" stroke-opacity=\"1\" stroke-width=\"5.12\"/>\n",
       "<path clip-path=\"url(#clip950)\" d=\"M2093.58 212.289 L2093.58 226.039 L2089.3 226.039 L2089.3 190.252 L2093.58 190.252 L2093.58 194.187 Q2094.92 191.872 2096.96 190.761 Q2099.02 189.627 2101.87 189.627 Q2106.59 189.627 2109.53 193.377 Q2112.49 197.127 2112.49 203.238 Q2112.49 209.349 2109.53 213.099 Q2106.59 216.849 2101.87 216.849 Q2099.02 216.849 2096.96 215.738 Q2094.92 214.603 2093.58 212.289 M2108.07 203.238 Q2108.07 198.539 2106.13 195.877 Q2104.21 193.192 2100.83 193.192 Q2097.45 193.192 2095.5 195.877 Q2093.58 198.539 2093.58 203.238 Q2093.58 207.937 2095.5 210.622 Q2097.45 213.284 2100.83 213.284 Q2104.21 213.284 2106.13 210.622 Q2108.07 207.937 2108.07 203.238 Z\" fill=\"#000000\" fill-rule=\"evenodd\" fill-opacity=\"1\" /><path clip-path=\"url(#clip950)\" d=\"M2129.6 193.238 Q2126.17 193.238 2124.18 195.923 Q2122.19 198.585 2122.19 203.238 Q2122.19 207.891 2124.16 210.576 Q2126.15 213.238 2129.6 213.238 Q2133 213.238 2134.99 210.553 Q2136.98 207.867 2136.98 203.238 Q2136.98 198.631 2134.99 195.946 Q2133 193.238 2129.6 193.238 M2129.6 189.627 Q2135.15 189.627 2138.33 193.238 Q2141.5 196.849 2141.5 203.238 Q2141.5 209.604 2138.33 213.238 Q2135.15 216.849 2129.6 216.849 Q2124.02 216.849 2120.85 213.238 Q2117.7 209.604 2117.7 203.238 Q2117.7 196.849 2120.85 193.238 Q2124.02 189.627 2129.6 189.627 Z\" fill=\"#000000\" fill-rule=\"evenodd\" fill-opacity=\"1\" /><path clip-path=\"url(#clip950)\" d=\"M2148.56 190.252 L2152.82 190.252 L2152.82 216.178 L2148.56 216.178 L2148.56 190.252 M2148.56 180.159 L2152.82 180.159 L2152.82 185.553 L2148.56 185.553 L2148.56 180.159 Z\" fill=\"#000000\" fill-rule=\"evenodd\" fill-opacity=\"1\" /><path clip-path=\"url(#clip950)\" d=\"M2183.28 200.529 L2183.28 216.178 L2179.02 216.178 L2179.02 200.668 Q2179.02 196.988 2177.59 195.159 Q2176.15 193.33 2173.28 193.33 Q2169.83 193.33 2167.84 195.53 Q2165.85 197.729 2165.85 201.525 L2165.85 216.178 L2161.57 216.178 L2161.57 190.252 L2165.85 190.252 L2165.85 194.28 Q2167.38 191.942 2169.44 190.784 Q2171.52 189.627 2174.23 189.627 Q2178.7 189.627 2180.99 192.405 Q2183.28 195.159 2183.28 200.529 Z\" fill=\"#000000\" fill-rule=\"evenodd\" fill-opacity=\"1\" /><path clip-path=\"url(#clip950)\" d=\"M2195.99 182.891 L2195.99 190.252 L2204.76 190.252 L2204.76 193.562 L2195.99 193.562 L2195.99 207.636 Q2195.99 210.807 2196.84 211.71 Q2197.72 212.613 2200.39 212.613 L2204.76 212.613 L2204.76 216.178 L2200.39 216.178 Q2195.46 216.178 2193.58 214.349 Q2191.71 212.497 2191.71 207.636 L2191.71 193.562 L2188.58 193.562 L2188.58 190.252 L2191.71 190.252 L2191.71 182.891 L2195.99 182.891 Z\" fill=\"#000000\" fill-rule=\"evenodd\" fill-opacity=\"1\" /><path clip-path=\"url(#clip950)\" d=\"M2226.89 191.016 L2226.89 195.043 Q2225.08 194.117 2223.14 193.655 Q2221.2 193.192 2219.11 193.192 Q2215.94 193.192 2214.34 194.164 Q2212.77 195.136 2212.77 197.08 Q2212.77 198.562 2213.9 199.418 Q2215.04 200.252 2218.46 201.016 L2219.92 201.34 Q2224.46 202.312 2226.36 204.094 Q2228.28 205.854 2228.28 209.025 Q2228.28 212.636 2225.41 214.742 Q2222.56 216.849 2217.56 216.849 Q2215.48 216.849 2213.21 216.432 Q2210.96 216.039 2208.46 215.228 L2208.46 210.83 Q2210.83 212.057 2213.12 212.682 Q2215.41 213.284 2217.65 213.284 Q2220.66 213.284 2222.28 212.266 Q2223.9 211.224 2223.9 209.349 Q2223.9 207.613 2222.72 206.687 Q2221.57 205.761 2217.61 204.904 L2216.13 204.557 Q2212.17 203.724 2210.41 202.011 Q2208.65 200.275 2208.65 197.266 Q2208.65 193.608 2211.24 191.618 Q2213.83 189.627 2218.6 189.627 Q2220.96 189.627 2223.05 189.974 Q2225.13 190.321 2226.89 191.016 Z\" fill=\"#000000\" fill-rule=\"evenodd\" fill-opacity=\"1\" /></svg>\n"
      ]
     },
     "metadata": {},
     "output_type": "display_data"
    }
   ],
   "source": [
    "using Plots\n",
    "x = -1:0.1:3\n",
    "f(x) = x^2\n",
    "# Plots.plot(x,f.(x))\n",
    "gr()    # load the GR backend (you can use diff backends without any diff functionality)\n",
    "Plots.plot(x,f.(x), label=\"line\")\n",
    "Plots.scatter!(x,f.(x), label=\"points\")"
   ]
  },
  {
   "cell_type": "code",
   "execution_count": 25,
   "metadata": {},
   "outputs": [
    {
     "name": "stderr",
     "output_type": "stream",
     "text": [
      "\u001b[91m\u001b[1mERROR: \u001b[22m\u001b[39m"
     ]
    },
    {
     "name": "stderr",
     "output_type": "stream",
     "text": [
      "LoadError: InitError: "
     ]
    },
    {
     "name": "stderr",
     "output_type": "stream",
     "text": [
      "SystemError: opening file \"/home/mattking/miniconda3/envs/env-julia/share/julia/cert.pem\": No such file or directory\n",
      "Stacktrace:\n",
      "  [1] \u001b[0m\u001b[1msystemerror\u001b[22m\u001b[0m\u001b[1m(\u001b[22m\u001b[90mp\u001b[39m::\u001b[0mString, \u001b[90merrno\u001b[39m::\u001b[0mInt32; \u001b[90mextrainfo\u001b[39m::\u001b[0mNothing\u001b[0m\u001b[1m)\u001b[22m\n",
      "\u001b[90m    @ \u001b[39m\u001b[90mBase\u001b[39m \u001b[90m./\u001b[39m\u001b[90m\u001b[4merror.jl:176\u001b[24m\u001b[39m\n",
      "  [2] \u001b[0m\u001b[1m#systemerror#80\u001b[22m\n",
      "\u001b[90m    @ \u001b[39m\u001b[90m./\u001b[39m\u001b[90m\u001b[4merror.jl:175\u001b[24m\u001b[39m\u001b[90m [inlined]\u001b[39m\n",
      "  [3] \u001b[0m\u001b[1msystemerror\u001b[22m\n",
      "\u001b[90m    @ \u001b[39m\u001b[90m./\u001b[39m\u001b[90m\u001b[4merror.jl:175\u001b[24m\u001b[39m\u001b[90m [inlined]\u001b[39m\n",
      "  [4] \u001b[0m\u001b[1mopen\u001b[22m\u001b[0m\u001b[1m(\u001b[22m\u001b[90mfname\u001b[39m::\u001b[0mString; \u001b[90mlock\u001b[39m::\u001b[0mBool, \u001b[90mread\u001b[39m::\u001b[0mNothing, \u001b[90mwrite\u001b[39m::\u001b[0mNothing, \u001b[90mcreate\u001b[39m::\u001b[0mNothing, \u001b[90mtruncate\u001b[39m::\u001b[0mNothing, \u001b[90mappend\u001b[39m::\u001b[0mNothing\u001b[0m\u001b[1m)\u001b[22m\n",
      "\u001b[90m    @ \u001b[39m\u001b[90mBase\u001b[39m \u001b[90m./\u001b[39m\u001b[90m\u001b[4miostream.jl:293\u001b[24m\u001b[39m\n",
      "  [5] \u001b[0m\u001b[1mopen\u001b[22m\n",
      "\u001b[90m    @ \u001b[39m\u001b[90m./\u001b[39m\u001b[90m\u001b[4miostream.jl:275\u001b[24m\u001b[39m\u001b[90m [inlined]\u001b[39m\n",
      "  [6] \u001b[0m\u001b[1mopen\u001b[22m\u001b[0m\u001b[1m(\u001b[22m\u001b[90mf\u001b[39m::\u001b[0mBase.var\"#387#388\"\u001b[90m{String}\u001b[39m, \u001b[90margs\u001b[39m::\u001b[0mString; \u001b[90mkwargs\u001b[39m::"
     ]
    },
    {
     "name": "stderr",
     "output_type": "stream",
     "text": [
      "\u001b[0mBase.Pairs\u001b[90m{Symbol, Union{}, Tuple{}, NamedTuple{(), Tuple{}}}\u001b[39m\u001b[0m\u001b[1m)\u001b[22m\n",
      "\u001b[90m    @ \u001b[39m\u001b[90mBase\u001b[39m \u001b[90m./\u001b[39m\u001b[90m\u001b[4mio.jl:382\u001b[24m\u001b[39m\n",
      "  [7] \u001b[0m\u001b[1mopen\u001b[22m\n",
      "\u001b[90m    @ \u001b[39m\u001b[90m./\u001b[39m\u001b[90m\u001b[4mio.jl:381\u001b[24m\u001b[39m\u001b[90m [inlined]\u001b[39m\n",
      "  [8] \u001b[0m\u001b[1mread\u001b[22m\n",
      "\u001b[90m    @ \u001b[39m\u001b[90m./\u001b[39m\u001b[90m\u001b[4mio.jl:462\u001b[24m\u001b[39m\u001b[90m [inlined]\u001b[39m\n",
      "  [9] \u001b[0m\u001b[1m__sslinit__\u001b[22m\u001b[0m\u001b[1m(\u001b[22m\u001b[0m\u001b[1m)\u001b[22m\n",
      "\u001b[90m    @ \u001b[39m\u001b[35mMbedTLS\u001b[39m \u001b[90m~/miniconda3/envs/env-julia/share/julia/packages/MbedTLS/yELM7/src/\u001b[39m\u001b[90m\u001b[4mssl.jl:786\u001b[24m\u001b[39m\n",
      " [10] \u001b[0m\u001b[1m__init__\u001b[22m\u001b[0m\u001b[1m(\u001b[22m\u001b[0m\u001b[1m)\u001b[22m\n",
      "\u001b[90m    @ \u001b[39m\u001b[35mMbedTLS\u001b[39m \u001b[90m~/miniconda3/envs/env-julia/share/julia/packages/MbedTLS/yELM7/src/\u001b[39m\u001b[90m\u001b[4mMbedTLS.jl:55\u001b[24m\u001b[39m\n",
      " [11] \u001b[0m\u001b[1m_include_from_serialized\u001b[22m\u001b[0m\u001b[1m(\u001b[22m\u001b[90mpkg\u001b[39m::\u001b[0mBase.PkgId, \u001b[90mpath\u001b[39m::\u001b[0mString, \u001b[90mdepmods\u001b[39m::\u001b[0mVector\u001b[90m{Any}\u001b[39m\u001b[0m\u001b[1m)\u001b[22m\n",
      "\u001b[90m    @ \u001b[39m\u001b[90mBase\u001b[39m \u001b[90m./\u001b[39m\u001b[90m\u001b[4mloading.jl:831\u001b[24m\u001b[39m\n",
      " [12] \u001b[0m\u001b[1m_require_search_from_serialized\u001b[22m\u001b[0m\u001b[1m(\u001b[22m\u001b[90mpkg\u001b[39m::\u001b[0mBase.PkgId, \u001b[90msourcepath\u001b[39m::\u001b[0mString, \u001b[90mbuild_id\u001b[39m::\u001b[0mUInt64\u001b[0m\u001b[1m)\u001b[22m\n",
      "\u001b[90m    @ \u001b[39m\u001b[90mBase\u001b[39m \u001b[90m./\u001b[39m\u001b[90m\u001b[4mloading.jl:1039\u001b[24m\u001b[39m\n",
      " [13] \u001b[0m\u001b[1m_require\u001b[22m\u001b[0m\u001b[1m(\u001b[22m\u001b[90mpkg\u001b[39m::\u001b[0mBase.PkgId\u001b[0m\u001b[1m)\u001b[22m\n",
      "\u001b[90m    @ \u001b[39m\u001b[90mBase\u001b[39m \u001b[90m./\u001b[39m\u001b[90m\u001b[4mloading.jl:1315\u001b[24m\u001b[39m\n",
      " [14] \u001b[0m\u001b[1m_require_prelocked\u001b[22m\u001b[0m\u001b[1m(\u001b[22m\u001b[90muuidkey\u001b[39m::\u001b[0mBase.PkgId\u001b[0m\u001b[1m)\u001b[22m\n",
      "\u001b[90m    @ \u001b[39m\u001b[90mBase\u001b[39m \u001b[90m./\u001b[39m\u001b[90m\u001b[4mloading.jl:1200\u001b[24m\u001b[39m\n",
      " [15] \u001b[0m\u001b[1mmacro expansion\u001b[22m\n",
      "\u001b[90m    @ \u001b[39m\u001b[90m./\u001b[39m\u001b[90m\u001b[4mloading.jl:1180\u001b[24m\u001b[39m\u001b[90m [inlined]\u001b[39m\n",
      " [16] \u001b[0m\u001b[1mmacro expansion\u001b[22m\n",
      "\u001b[90m    @ \u001b[39m\u001b[90m./\u001b[39m\u001b[90m\u001b[4mlock.jl:223\u001b[24m\u001b[39m\u001b[90m [inlined]\u001b[39m\n",
      " [17] \u001b[0m\u001b[1mrequire\u001b[22m\u001b[0m\u001b[1m(\u001b[22m\u001b[90minto\u001b[39m::\u001b[0mModule, \u001b[90mmod\u001b[39m::\u001b[0mSymbol\u001b[0m\u001b[1m)\u001b[22m\n",
      "\u001b[90m    @ \u001b[39m\u001b[90mBase\u001b[39m \u001b[90m./\u001b[39m\u001b[90m\u001b[4mloading.jl:1144\u001b[24m\u001b[39m\n",
      " [18] \u001b[0m\u001b[1minclude\u001b[22m\n",
      "\u001b[90m    @ \u001b[39m\u001b[90m./\u001b[39m\u001b[90m\u001b[4mBase.jl:419\u001b[24m\u001b[39m\u001b[90m [inlined]\u001b[39m\n",
      " [19] \u001b[0m\u001b[1minclude_package_for_output\u001b[22m\u001b[0m\u001b[1m(\u001b[22m\u001b[90mpkg\u001b[39m::\u001b[0mBase.PkgId, \u001b[90minput\u001b[39m::\u001b[0mString, \u001b[90mdepot_path\u001b[39m::\u001b[0mVector\u001b[90m{String}\u001b[39m, \u001b[90mdl_load_path\u001b[39m::\u001b[0mVector\u001b[90m{String}\u001b[39m, \u001b[90mload_path\u001b[39m::\u001b[0mVector\u001b[90m{String}\u001b[39m, \u001b[90mconcrete_deps\u001b[39m::\u001b[0mVector\u001b[90m{Pair{Base.PkgId, UInt64}}\u001b[39m, \u001b[90msource\u001b[39m::\u001b[0mString\u001b[0m\u001b[1m)\u001b[22m\n",
      "\u001b[90m    @ \u001b[39m\u001b[90mBase\u001b[39m \u001b[90m./\u001b[39m\u001b[90m\u001b[4mloading.jl:1554\u001b[24m\u001b[39m\n",
      " [20] top-level scope\n",
      "\u001b[90m    @ \u001b[39m\u001b[90m\u001b[4mstdin:1\u001b[24m\u001b[39m\n",
      "during initialization of module MbedTLS\n",
      "in expression starting at /home/mattking/miniconda3/envs/env-julia/share/julia/packages/HTTP/VAOuj/src/HTTP.jl:1\n",
      "in expression starting at stdin:1\n"
     ]
    },
    {
     "name": "stderr",
     "output_type": "stream",
     "text": [
      "\u001b[91m\u001b[1mERROR: \u001b[22m\u001b[39mLoadError: "
     ]
    },
    {
     "name": "stderr",
     "output_type": "stream",
     "text": [
      "Failed to precompile HTTP [cd3eb016-35fb-5094-929b-558a96fad6f3] to /home/mattking/miniconda3/envs/env-julia/share/julia/compiled/v1.8/HTTP/jl_2JFiXG.\n",
      "Stacktrace:\n",
      "  [1] \u001b[0m\u001b[1merror\u001b[22m\u001b[0m\u001b[1m(\u001b[22m\u001b[90ms\u001b[39m::\u001b[0mString\u001b[0m\u001b[1m)\u001b[22m\n",
      "\u001b[90m    @ \u001b[39m\u001b[90mBase\u001b[39m \u001b[90m./\u001b[39m\u001b[90m\u001b[4merror.jl:35\u001b[24m\u001b[39m\n",
      "  [2] \u001b[0m\u001b[1mcompilecache\u001b[22m\u001b[0m\u001b[1m(\u001b[22m\u001b[90mpkg\u001b[39m::\u001b[0mBase.PkgId, \u001b[90mpath\u001b[39m::\u001b[0mString, \u001b[90minternal_stderr\u001b[39m::\u001b[0mIO, \u001b[90minternal_stdout\u001b[39m::\u001b[0mIO, \u001b[90mkeep_loaded_modules\u001b[39m::\u001b[0mBool\u001b[0m\u001b[1m)\u001b[22m\n",
      "\u001b[90m    @ \u001b[39m\u001b[90mBase\u001b[39m \u001b[90m./\u001b[39m\u001b[90m\u001b[4mloading.jl:1705\u001b[24m\u001b[39m\n",
      "  [3] \u001b[0m\u001b[1mcompilecache\u001b[22m\n",
      "\u001b[90m    @ \u001b[39m\u001b[90m./\u001b[39m\u001b[90m\u001b[4mloading.jl:1649\u001b[24m\u001b[39m\u001b[90m [inlined]\u001b[39m\n",
      "  [4] \u001b[0m\u001b[1m_require\u001b[22m\u001b[0m\u001b[1m(\u001b[22m\u001b[90mpkg\u001b[39m::\u001b[0mBase.PkgId\u001b[0m\u001b[1m)\u001b[22m\n",
      "\u001b[90m    @ \u001b[39m\u001b[90mBase\u001b[39m \u001b[90m./\u001b[39m\u001b[90m\u001b[4mloading.jl:1337\u001b[24m\u001b[39m\n",
      "  [5] \u001b[0m\u001b[1m_require_prelocked\u001b[22m\u001b[0m\u001b[1m(\u001b[22m\u001b[90muuidkey\u001b[39m::\u001b[0mBase.PkgId\u001b[0m\u001b[1m)\u001b[22m\n",
      "\u001b[90m    @ \u001b[39m\u001b[90mBase\u001b[39m \u001b[90m./\u001b[39m\u001b[90m\u001b[4mloading.jl:1200\u001b[24m\u001b[39m\n",
      "  [6] \u001b[0m\u001b[1mmacro expansion\u001b[22m\n",
      "\u001b[90m    @ \u001b[39m\u001b[90m./\u001b[39m\u001b[90m\u001b[4mloading.jl:1180\u001b[24m\u001b[39m\u001b[90m [inlined]\u001b[39m\n",
      "  [7] \u001b[0m\u001b[1mmacro expansion\u001b[22m\n",
      "\u001b[90m    @ \u001b[39m\u001b[90m./\u001b[39m\u001b[90m\u001b[4mlock.jl:223\u001b[24m\u001b[39m\u001b[90m [inlined]\u001b[39m\n",
      "  [8] \u001b[0m\u001b[1mrequire\u001b[22m\u001b[0m\u001b[1m(\u001b[22m\u001b[90minto\u001b[39m::\u001b[0mModule, \u001b[90mmod\u001b[39m::\u001b[0mSymbol\u001b[0m\u001b[1m)\u001b[22m\n",
      "\u001b[90m    @ \u001b[39m\u001b[90mBase\u001b[39m \u001b[90m./\u001b[39m\u001b[90m\u001b[4mloading.jl:1144\u001b[24m\u001b[39m\n",
      "  [9] \u001b[0m\u001b[1minclude\u001b[22m\u001b[0m\u001b[1m(\u001b[22m\u001b[90mmod\u001b[39m::\u001b[0mModule, \u001b[90m_path\u001b[39m::\u001b[0mString\u001b[0m\u001b[1m)\u001b[22m\n",
      "\u001b[90m    @ \u001b[39m\u001b[90mBase\u001b[39m \u001b[90m./\u001b[39m\u001b[90m\u001b[4mBase.jl:419\u001b[24m\u001b[39m\n",
      " [10] \u001b[0m\u001b[1minclude\u001b[22m\u001b[0m\u001b[1m(\u001b[22m\u001b[90mx\u001b[39m::\u001b[0mString\u001b[0m\u001b[1m)\u001b[22m\n",
      "\u001b[90m    @ \u001b[39m\u001b[35mMux\u001b[39m \u001b[90m~/miniconda3/envs/env-julia/share/julia/packages/Mux/3h8RY/src/\u001b[39m\u001b[90m\u001b[4mMux.jl:1\u001b[24m\u001b[39m\n",
      " [11] top-level scope\n",
      "\u001b[90m    @ \u001b[39m\u001b[90m~/miniconda3/envs/env-julia/share/julia/packages/Mux/3h8RY/src/\u001b[39m\u001b[90m\u001b[4mMux.jl:25\u001b[24m\u001b[39m\n",
      " [12] \u001b[0m\u001b[1minclude\u001b[22m\n",
      "\u001b[90m    @ \u001b[39m\u001b[90m./\u001b[39m\u001b[90m\u001b[4mBase.jl:419\u001b[24m\u001b[39m\u001b[90m [inlined]\u001b[39m\n",
      " [13] \u001b[0m\u001b[1minclude_package_for_output\u001b[22m\u001b[0m\u001b[1m(\u001b[22m\u001b[90mpkg\u001b[39m::\u001b[0mBase.PkgId, \u001b[90minput\u001b[39m::\u001b[0mString, \u001b[90mdepot_path\u001b[39m::\u001b[0mVector\u001b[90m{String}\u001b[39m, \u001b[90mdl_load_path\u001b[39m::\u001b[0mVector\u001b[90m{String}\u001b[39m, \u001b[90mload_path\u001b[39m::\u001b[0mVector\u001b[90m{String}\u001b[39m, \u001b[90mconcrete_deps\u001b[39m::\u001b[0mVector\u001b[90m{Pair{Base.PkgId, UInt64}}\u001b[39m, \u001b[90msource\u001b[39m::\u001b[0mString\u001b[0m\u001b[1m)\u001b[22m\n",
      "\u001b[90m    @ \u001b[39m\u001b[90mBase\u001b[39m \u001b[90m./\u001b[39m\u001b[90m\u001b[4mloading.jl:1554\u001b[24m\u001b[39m\n",
      " [14] top-level scope\n",
      "\u001b[90m    @ \u001b[39m\u001b[90m\u001b[4mstdin:1\u001b[24m\u001b[39m\n",
      "in expression starting at /home/mattking/miniconda3/envs/env-julia/share/julia/packages/Mux/3h8RY/src/server.jl:3\n",
      "in expression starting at /home/mattking/miniconda3/envs/env-julia/share/julia/packages/Mux/3h8RY/src/Mux.jl:1\n",
      "in expression starting at stdin:1\n"
     ]
    },
    {
     "name": "stderr",
     "output_type": "stream",
     "text": [
      "\u001b[91m\u001b[1mERROR: \u001b[22m\u001b[39mLoadError: "
     ]
    },
    {
     "name": "stderr",
     "output_type": "stream",
     "text": [
      "Failed to precompile Mux [a975b10e-0019-58db-a62f-e48ff68538c9] to /home/mattking/miniconda3/envs/env-julia/share/julia/compiled/v1.8/Mux/jl_6GqvOQ.\n",
      "Stacktrace:\n",
      "  [1] \u001b[0m\u001b[1merror\u001b[22m\u001b[0m\u001b[1m(\u001b[22m\u001b[90ms\u001b[39m::\u001b[0mString\u001b[0m\u001b[1m)\u001b[22m\n",
      "\u001b[90m    @ \u001b[39m\u001b[90mBase\u001b[39m \u001b[90m./\u001b[39m\u001b[90m\u001b[4merror.jl:35\u001b[24m\u001b[39m\n",
      "  [2] \u001b[0m\u001b[1mcompilecache\u001b[22m\u001b[0m\u001b[1m(\u001b[22m\u001b[90mpkg\u001b[39m::\u001b[0mBase.PkgId, \u001b[90mpath\u001b[39m::\u001b[0mString, \u001b[90minternal_stderr\u001b[39m::\u001b[0mIO, \u001b[90minternal_stdout\u001b[39m::\u001b[0mIO, \u001b[90mkeep_loaded_modules\u001b[39m::\u001b[0mBool\u001b[0m\u001b[1m)\u001b[22m\n",
      "\u001b[90m    @ \u001b[39m\u001b[90mBase\u001b[39m \u001b[90m./\u001b[39m\u001b[90m\u001b[4mloading.jl:1705\u001b[24m\u001b[39m\n",
      "  [3] \u001b[0m\u001b[1mcompilecache\u001b[22m\n",
      "\u001b[90m    @ \u001b[39m\u001b[90m./\u001b[39m\u001b[90m\u001b[4mloading.jl:1649\u001b[24m\u001b[39m\u001b[90m [inlined]\u001b[39m\n",
      "  [4] \u001b[0m\u001b[1m_require\u001b[22m\u001b[0m\u001b[1m(\u001b[22m\u001b[90mpkg\u001b[39m::\u001b[0mBase.PkgId\u001b[0m\u001b[1m)\u001b[22m\n",
      "\u001b[90m    @ \u001b[39m\u001b[90mBase\u001b[39m \u001b[90m./\u001b[39m\u001b[90m\u001b[4mloading.jl:1337\u001b[24m\u001b[39m\n",
      "  [5] \u001b[0m\u001b[1m_require_prelocked\u001b[22m\u001b[0m\u001b[1m(\u001b[22m\u001b[90muuidkey\u001b[39m::\u001b[0mBase.PkgId\u001b[0m\u001b[1m)\u001b[22m\n",
      "\u001b[90m    @ \u001b[39m\u001b[90mBase\u001b[39m \u001b[90m./\u001b[39m\u001b[90m\u001b[4mloading.jl:1200\u001b[24m\u001b[39m\n",
      "  [6] \u001b[0m\u001b[1mmacro expansion\u001b[22m\n",
      "\u001b[90m    @ \u001b[39m\u001b[90m./\u001b[39m\u001b[90m\u001b[4mloading.jl:1180\u001b[24m\u001b[39m\u001b[90m [inlined]\u001b[39m\n",
      "  [7] \u001b[0m\u001b[1mmacro expansion\u001b[22m\n",
      "\u001b[90m    @ \u001b[39m\u001b[90m./\u001b[39m\u001b[90m\u001b[4mlock.jl:223\u001b[24m\u001b[39m\u001b[90m [inlined]\u001b[39m\n",
      "  [8] \u001b[0m\u001b[1mrequire\u001b[22m\u001b[0m\u001b[1m(\u001b[22m\u001b[90minto\u001b[39m::\u001b[0mModule, \u001b[90mmod\u001b[39m::\u001b[0mSymbol\u001b[0m\u001b[1m)\u001b[22m\n",
      "\u001b[90m    @ \u001b[39m\u001b[90mBase\u001b[39m \u001b[90m./\u001b[39m\u001b[90m\u001b[4mloading.jl:1144\u001b[24m\u001b[39m\n",
      "  [9] \u001b[0m\u001b[1minclude\u001b[22m\u001b[0m\u001b[1m(\u001b[22m\u001b[90mmod\u001b[39m::\u001b[0mModule, \u001b[90m_path\u001b[39m::\u001b[0mString\u001b[0m\u001b[1m)\u001b[22m\n",
      "\u001b[90m    @ \u001b[39m\u001b[90mBase\u001b[39m \u001b[90m./\u001b[39m\u001b[90m\u001b[4mBase.jl:419\u001b[24m\u001b[39m\n",
      " [10] \u001b[0m\u001b[1minclude\u001b[22m\u001b[0m\u001b[1m(\u001b[22m\u001b[90mx\u001b[39m::\u001b[0mString\u001b[0m\u001b[1m)\u001b[22m\n",
      "\u001b[90m    @ \u001b[39m\u001b[35mBlink\u001b[39m \u001b[90m~/miniconda3/envs/env-julia/share/julia/packages/Blink/mwJC9/src/\u001b[39m\u001b[90m\u001b[4mBlink.jl:3\u001b[24m\u001b[39m\n",
      " [11] top-level scope\n",
      "\u001b[90m    @ \u001b[39m\u001b[90m~/miniconda3/envs/env-julia/share/julia/packages/Blink/mwJC9/src/\u001b[39m\u001b[90m\u001b[4mBlink.jl:12\u001b[24m\u001b[39m\n",
      " [12] \u001b[0m\u001b[1minclude\u001b[22m\n",
      "\u001b[90m    @ \u001b[39m\u001b[90m./\u001b[39m\u001b[90m\u001b[4mBase.jl:419\u001b[24m\u001b[39m\u001b[90m [inlined]\u001b[39m\n",
      " [13] \u001b[0m\u001b[1minclude_package_for_output\u001b[22m\u001b[0m\u001b[1m(\u001b[22m\u001b[90mpkg\u001b[39m::\u001b[0mBase.PkgId, \u001b[90minput\u001b[39m::\u001b[0mString, \u001b[90mdepot_path\u001b[39m::\u001b[0mVector\u001b[90m{String}\u001b[39m, \u001b[90mdl_load_path\u001b[39m::\u001b[0mVector\u001b[90m{String}\u001b[39m, \u001b[90mload_path\u001b[39m::\u001b[0mVector\u001b[90m{String}\u001b[39m, \u001b[90mconcrete_deps\u001b[39m::\u001b[0mVector\u001b[90m{Pair{Base.PkgId, UInt64}}\u001b[39m, \u001b[90msource\u001b[39m::\u001b[0mString\u001b[0m\u001b[1m)\u001b[22m\n",
      "\u001b[90m    @ \u001b[39m\u001b[90mBase\u001b[39m \u001b[90m./\u001b[39m\u001b[90m\u001b[4mloading.jl:1554\u001b[24m\u001b[39m\n",
      " [14] top-level scope\n",
      "\u001b[90m    @ \u001b[39m\u001b[90m\u001b[4mstdin:1\u001b[24m\u001b[39m\n",
      "in expression starting at /home/mattking/miniconda3/envs/env-julia/share/julia/packages/Blink/mwJC9/src/content/content.jl:1\n",
      "in expression starting at /home/mattking/miniconda3/envs/env-julia/share/julia/packages/Blink/mwJC9/src/Blink.jl:3\n",
      "in expression starting at stdin:1\n"
     ]
    },
    {
     "name": "stderr",
     "output_type": "stream",
     "text": [
      "\u001b[91m\u001b[1mERROR: \u001b[22m\u001b[39mLoadError: "
     ]
    },
    {
     "name": "stderr",
     "output_type": "stream",
     "text": [
      "Failed to precompile Blink [ad839575-38b3-5650-b840-f874b8c74a25] to /home/mattking/miniconda3/envs/env-julia/share/julia/compiled/v1.8/Blink/jl_qK7vyX.\n",
      "Stacktrace:\n",
      "  [1] \u001b[0m\u001b[1merror\u001b[22m\u001b[0m\u001b[1m(\u001b[22m\u001b[90ms\u001b[39m::\u001b[0mString\u001b[0m\u001b[1m)\u001b[22m\n",
      "\u001b[90m    @ \u001b[39m\u001b[90mBase\u001b[39m \u001b[90m./\u001b[39m\u001b[90m\u001b[4merror.jl:35\u001b[24m\u001b[39m\n",
      "  [2] \u001b[0m\u001b[1mcompilecache\u001b[22m\u001b[0m\u001b[1m(\u001b[22m\u001b[90mpkg\u001b[39m::\u001b[0mBase.PkgId, \u001b[90mpath\u001b[39m::\u001b[0mString, \u001b[90minternal_stderr\u001b[39m::\u001b[0mIO, \u001b[90minternal_stdout\u001b[39m::\u001b[0mIO, \u001b[90mkeep_loaded_modules\u001b[39m::\u001b[0mBool\u001b[0m\u001b[1m)\u001b[22m\n",
      "\u001b[90m    @ \u001b[39m\u001b[90mBase\u001b[39m \u001b[90m./\u001b[39m\u001b[90m\u001b[4mloading.jl:1705\u001b[24m\u001b[39m\n",
      "  [3] \u001b[0m\u001b[1mcompilecache\u001b[22m\n",
      "\u001b[90m    @ \u001b[39m\u001b[90m./\u001b[39m\u001b[90m\u001b[4mloading.jl:1649\u001b[24m\u001b[39m\u001b[90m [inlined]\u001b[39m\n",
      "  [4] \u001b[0m\u001b[1m_require\u001b[22m\u001b[0m\u001b[1m(\u001b[22m\u001b[90mpkg\u001b[39m::\u001b[0mBase.PkgId\u001b[0m\u001b[1m)\u001b[22m\n",
      "\u001b[90m    @ \u001b[39m\u001b[90mBase\u001b[39m \u001b[90m./\u001b[39m\u001b[90m\u001b[4mloading.jl:1337\u001b[24m\u001b[39m\n",
      "  [5] \u001b[0m\u001b[1m_require_prelocked\u001b[22m\u001b[0m\u001b[1m(\u001b[22m\u001b[90muuidkey\u001b[39m::\u001b[0mBase.PkgId\u001b[0m\u001b[1m)\u001b[22m\n",
      "\u001b[90m    @ \u001b[39m\u001b[90mBase\u001b[39m \u001b[90m./\u001b[39m\u001b[90m\u001b[4mloading.jl:1200\u001b[24m\u001b[39m\n",
      "  [6] \u001b[0m\u001b[1mmacro expansion\u001b[22m\n",
      "\u001b[90m    @ \u001b[39m\u001b[90m./\u001b[39m\u001b[90m\u001b[4mloading.jl:1180\u001b[24m\u001b[39m\u001b[90m [inlined]\u001b[39m\n",
      "  [7] \u001b[0m\u001b[1mmacro expansion\u001b[22m\n",
      "\u001b[90m    @ \u001b[39m\u001b[90m./\u001b[39m\u001b[90m\u001b[4mlock.jl:223\u001b[24m\u001b[39m\u001b[90m [inlined]\u001b[39m\n",
      "  [8] \u001b[0m\u001b[1mrequire\u001b[22m\u001b[0m\u001b[1m(\u001b[22m\u001b[90minto\u001b[39m::\u001b[0mModule, \u001b[90mmod\u001b[39m::\u001b[0mSymbol\u001b[0m\u001b[1m)\u001b[22m\n",
      "\u001b[90m    @ \u001b[39m\u001b[90mBase\u001b[39m \u001b[90m./\u001b[39m\u001b[90m\u001b[4mloading.jl:1144\u001b[24m\u001b[39m\n",
      "  [9] \u001b[0m\u001b[1minclude\u001b[22m\n",
      "\u001b[90m    @ \u001b[39m\u001b[90m./\u001b[39m\u001b[90m\u001b[4mBase.jl:419\u001b[24m\u001b[39m\u001b[90m [inlined]\u001b[39m\n",
      " [10] \u001b[0m\u001b[1minclude_package_for_output\u001b[22m\u001b[0m\u001b[1m(\u001b[22m\u001b[90mpkg\u001b[39m::\u001b[0mBase.PkgId, \u001b[90minput\u001b[39m::\u001b[0mString, \u001b[90mdepot_path\u001b[39m::\u001b[0mVector\u001b[90m{String}\u001b[39m, \u001b[90mdl_load_path\u001b[39m::\u001b[0mVector\u001b[90m{String}\u001b[39m, \u001b[90mload_path\u001b[39m::\u001b[0mVector\u001b[90m{String}\u001b[39m, \u001b[90mconcrete_deps\u001b[39m::\u001b[0mVector\u001b[90m{Pair{Base.PkgId, UInt64}}\u001b[39m, \u001b[90msource\u001b[39m::\u001b[0mString\u001b[0m\u001b[1m)\u001b[22m\n",
      "\u001b[90m    @ \u001b[39m\u001b[90mBase\u001b[39m \u001b[90m./\u001b[39m\u001b[90m\u001b[4mloading.jl:1554\u001b[24m\u001b[39m\n",
      " [11] top-level scope\n",
      "\u001b[90m    @ \u001b[39m\u001b[90m\u001b[4mstdin:1\u001b[24m\u001b[39m\n",
      "in expression starting at /home/mattking/miniconda3/envs/env-julia/share/julia/packages/PlotlyJS/tIMxP/src/PlotlyJS.jl:1\n",
      "in expression starting at stdin:1\n"
     ]
    },
    {
     "ename": "ErrorException",
     "evalue": "Failed to precompile PlotlyJS [f0f68f2c-4968-5e81-91da-67840de0976a] to /home/mattking/miniconda3/envs/env-julia/share/julia/compiled/v1.8/PlotlyJS/jl_tktt3q.",
     "output_type": "error",
     "traceback": [
      "Failed to precompile PlotlyJS [f0f68f2c-4968-5e81-91da-67840de0976a] to /home/mattking/miniconda3/envs/env-julia/share/julia/compiled/v1.8/PlotlyJS/jl_tktt3q.\n",
      "\n",
      "Stacktrace:\n",
      " [1] error(s::String)\n",
      "   @ Base ./error.jl:35\n",
      " [2] compilecache(pkg::Base.PkgId, path::String, internal_stderr::IO, internal_stdout::IO, keep_loaded_modules::Bool)\n",
      "   @ Base ./loading.jl:1705\n",
      " [3] compilecache\n",
      "   @ ./loading.jl:1649 [inlined]\n",
      " [4] _require(pkg::Base.PkgId)\n",
      "   @ Base ./loading.jl:1337\n",
      " [5] _require_prelocked(uuidkey::Base.PkgId)\n",
      "   @ Base ./loading.jl:1200\n",
      " [6] macro expansion\n",
      "   @ ./loading.jl:1180 [inlined]\n",
      " [7] macro expansion\n",
      "   @ ./lock.jl:223 [inlined]\n",
      " [8] require(into::Module, mod::Symbol)\n",
      "   @ Base ./loading.jl:1144\n",
      " [9] top-level scope\n",
      "   @ ~/miniconda3/envs/env-julia/share/julia/packages/Plots/W75kY/src/backends.jl:665"
     ]
    }
   ],
   "source": [
    "# plotlyjs()  # more UI functionality - install errored!\n",
    "# Plots.plot(x,f.(x), label=\"line\")\n",
    "# Plots.scatter!(x,f.(x), label=\"points\")"
   ]
  },
  {
   "cell_type": "markdown",
   "metadata": {},
   "source": [
    "### Multiple Dispatch\n",
    "##### Why? Make code fast and extensible. Use the right method for the arguments u give based on their type. When defining a function, you can define the method for different input types, then julia chooses the right method to dispatch."
   ]
  },
  {
   "cell_type": "code",
   "execution_count": 29,
   "metadata": {},
   "outputs": [
    {
     "data": {
      "text/html": [
       "+(x::<b>T</b>, y::<b>T</b>)<i> where T<:Union{Int128, Int16, Int32, Int64, Int8, UInt128, UInt16, UInt32, UInt64, UInt8}</i> in Base at <a href=\"https://github.com/JuliaLang/julia/tree/v1.8.1/base/int.jl#L87\" target=\"_blank\">int.jl:87</a>"
      ],
      "text/plain": [
       "+(x::T, y::T) where T<:Union{Int128, Int16, Int32, Int64, Int8, UInt128, UInt16, UInt32, UInt64, UInt8} in Base at int.jl:87"
      ]
     },
     "metadata": {},
     "output_type": "display_data"
    }
   ],
   "source": [
    "@which 3+3"
   ]
  },
  {
   "cell_type": "code",
   "execution_count": 32,
   "metadata": {},
   "outputs": [
    {
     "data": {
      "text/html": [
       "+(x::<b>T</b>, y::<b>T</b>)<i> where T<:Union{Float16, Float32, Float64}</i> in Base at <a href=\"https://github.com/JuliaLang/julia/tree/v1.8.1/base/float.jl#L383\" target=\"_blank\">float.jl:383</a>"
      ],
      "text/plain": [
       "+(x::T, y::T) where T<:Union{Float16, Float32, Float64} in Base at float.jl:383"
      ]
     },
     "metadata": {},
     "output_type": "display_data"
    }
   ],
   "source": [
    "@which 3.0+3.0"
   ]
  },
  {
   "cell_type": "code",
   "execution_count": 34,
   "metadata": {},
   "outputs": [
    {
     "data": {
      "text/html": [
       "+(x::<b>Number</b>, y::<b>Number</b>) in Base at <a href=\"https://github.com/JuliaLang/julia/tree/v1.8.1/base/promotion.jl#L388\" target=\"_blank\">promotion.jl:388</a>"
      ],
      "text/plain": [
       "+(x::Number, y::Number) in Base at promotion.jl:388"
      ]
     },
     "metadata": {},
     "output_type": "display_data"
    }
   ],
   "source": [
    "@which 3 + 3.0  # 'promoted to method for Number type"
   ]
  },
  {
   "cell_type": "code",
   "execution_count": 37,
   "metadata": {},
   "outputs": [],
   "source": [
    "import Base: +  # try to make method that concatenates two strings with + operator"
   ]
  },
  {
   "cell_type": "code",
   "execution_count": 39,
   "metadata": {},
   "outputs": [
    {
     "ename": "MethodError",
     "evalue": "MethodError: no method matching +(::String, ::String)\nClosest candidates are:\n  +(::Any, ::Any, !Matched::Any, !Matched::Any...) at operators.jl:591\n  +(!Matched::ChainRulesCore.AbstractThunk, ::Any) at ~/miniconda3/envs/env-julia/share/julia/packages/ChainRulesCore/C73ay/src/tangent_arithmetic.jl:122\n  +(!Matched::ChainRulesCore.Tangent{P}, ::P) where P at ~/miniconda3/envs/env-julia/share/julia/packages/ChainRulesCore/C73ay/src/tangent_arithmetic.jl:146\n  ...",
     "output_type": "error",
     "traceback": [
      "MethodError: no method matching +(::String, ::String)\n",
      "Closest candidates are:\n",
      "  +(::Any, ::Any, !Matched::Any, !Matched::Any...) at operators.jl:591\n",
      "  +(!Matched::ChainRulesCore.AbstractThunk, ::Any) at ~/miniconda3/envs/env-julia/share/julia/packages/ChainRulesCore/C73ay/src/tangent_arithmetic.jl:122\n",
      "  +(!Matched::ChainRulesCore.Tangent{P}, ::P) where P at ~/miniconda3/envs/env-julia/share/julia/packages/ChainRulesCore/C73ay/src/tangent_arithmetic.jl:146\n",
      "  ...\n",
      "\n",
      "Stacktrace:\n",
      " [1] top-level scope\n",
      "   @ ~/learn/intro_julia.ipynb:1"
     ]
    }
   ],
   "source": [
    "\"hello\" + \"world!\""
   ]
  },
  {
   "cell_type": "code",
   "execution_count": 44,
   "metadata": {},
   "outputs": [
    {
     "data": {
      "text/html": [
       "+(x::<b>String</b>, y::<b>String</b>) in Main at <a href=\"https://github.com/MatthewOliverKing/learn/tree/f361e4bc29d8be241bf95e0805762d1578dfa5f9//intro_julia.ipynb#L1\" target=\"_blank\">/home/mattking/learn/intro_julia.ipynb:1</a>"
      ],
      "text/plain": [
       "+(x::String, y::String) in Main at /home/mattking/learn/intro_julia.ipynb:1"
      ]
     },
     "metadata": {},
     "output_type": "display_data"
    }
   ],
   "source": [
    "@which \"hello\" + \"world!\""
   ]
  },
  {
   "cell_type": "code",
   "execution_count": 45,
   "metadata": {},
   "outputs": [
    {
     "data": {
      "text/plain": [
       "\"helloworld!\""
      ]
     },
     "metadata": {},
     "output_type": "display_data"
    }
   ],
   "source": [
    "string(\"hello\",\"world!\")"
   ]
  },
  {
   "cell_type": "code",
   "execution_count": 43,
   "metadata": {},
   "outputs": [
    {
     "data": {
      "text/plain": [
       "+ (generic function with 270 methods)"
      ]
     },
     "metadata": {},
     "output_type": "display_data"
    }
   ],
   "source": [
    "+(x::String,y::String) = string(x,y)    # just declare a new function +"
   ]
  },
  {
   "cell_type": "code",
   "execution_count": 46,
   "metadata": {},
   "outputs": [
    {
     "data": {
      "text/plain": [
       "\"hello world\""
      ]
     },
     "metadata": {},
     "output_type": "display_data"
    }
   ],
   "source": [
    "\"hello \" + \"world\""
   ]
  },
  {
   "cell_type": "code",
   "execution_count": 47,
   "metadata": {},
   "outputs": [
    {
     "data": {
      "text/html": [
       "+(x::<b>String</b>, y::<b>String</b>) in Main at <a href=\"https://github.com/MatthewOliverKing/learn/tree/f361e4bc29d8be241bf95e0805762d1578dfa5f9//intro_julia.ipynb#L1\" target=\"_blank\">/home/mattking/learn/intro_julia.ipynb:1</a>"
      ],
      "text/plain": [
       "+(x::String, y::String) in Main at /home/mattking/learn/intro_julia.ipynb:1"
      ]
     },
     "metadata": {},
     "output_type": "display_data"
    }
   ],
   "source": [
    "@which \"hello \" + \"world\""
   ]
  },
  {
   "cell_type": "code",
   "execution_count": 51,
   "metadata": {},
   "outputs": [
    {
     "data": {
      "text/plain": [
       "foo (generic function with 2 methods)"
      ]
     },
     "metadata": {},
     "output_type": "display_data"
    }
   ],
   "source": [
    "foo(x,y) = println(\"Duck-typed foo\")\n",
    "foo(x::Int,y::Int) = println(\"x is Int $x, y is Int $y\")"
   ]
  },
  {
   "cell_type": "code",
   "execution_count": 52,
   "metadata": {},
   "outputs": [
    {
     "name": "stdout",
     "output_type": "stream",
     "text": [
      "x is Int 4, y is Int 3\n"
     ]
    }
   ],
   "source": [
    "foo(4,3)"
   ]
  },
  {
   "cell_type": "code",
   "execution_count": 53,
   "metadata": {},
   "outputs": [
    {
     "name": "stdout",
     "output_type": "stream",
     "text": [
      "Duck-typed foo\n"
     ]
    }
   ],
   "source": [
    "foo(3,4.0)"
   ]
  },
  {
   "cell_type": "code",
   "execution_count": 54,
   "metadata": {},
   "outputs": [
    {
     "ename": "MethodError",
     "evalue": "MethodError: no method matching ~(::Int64, ::Int64)\nClosest candidates are:\n  ~(::Union{Int128, Int16, Int32, Int64, Int8, UInt128, UInt16, UInt32, UInt64, UInt8}) at int.jl:314\n  ~(::Integer) at int.jl:186",
     "output_type": "error",
     "traceback": [
      "MethodError: no method matching ~(::Int64, ::Int64)\n",
      "Closest candidates are:\n",
      "  ~(::Union{Int128, Int16, Int32, Int64, Int8, UInt128, UInt16, UInt32, UInt64, UInt8}) at int.jl:314\n",
      "  ~(::Integer) at int.jl:186\n",
      "\n",
      "Stacktrace:\n",
      " [1] top-level scope\n",
      "   @ ~/learn/intro_julia.ipynb:1"
     ]
    }
   ],
   "source": [
    "4~4"
   ]
  },
  {
   "cell_type": "markdown",
   "metadata": {},
   "source": [
    "### Other bits and pieces"
   ]
  },
  {
   "cell_type": "code",
   "execution_count": 69,
   "metadata": {},
   "outputs": [
    {
     "name": "stdout",
     "output_type": "stream",
     "text": [
      "  0.046489 seconds (147.69 k allocations: 7.837 MiB, 98.87% compilation time)\n"
     ]
    },
    {
     "data": {
      "text/plain": [
       "10-element Vector{Int64}:\n",
       "  1\n",
       "  2\n",
       "  3\n",
       "  4\n",
       "  5\n",
       "  6\n",
       "  7\n",
       "  8\n",
       "  9\n",
       " 10"
      ]
     },
     "metadata": {},
     "output_type": "display_data"
    }
   ],
   "source": [
    "# lin alg\n",
    "# A'A\n",
    "# A\\b\n",
    "\n",
    "# python interface\n",
    "# Pkg.add(\"PyCall\")\n",
    "\n",
    "@time sum(1:10)"
   ]
  },
  {
   "cell_type": "code",
   "execution_count": null,
   "metadata": {},
   "outputs": [],
   "source": []
  }
 ],
 "metadata": {
  "kernelspec": {
   "display_name": "Julia 1.8.1",
   "language": "julia",
   "name": "julia-1.8"
  },
  "language_info": {
   "file_extension": ".jl",
   "mimetype": "application/julia",
   "name": "julia",
   "version": "1.8.1"
  },
  "orig_nbformat": 4,
  "vscode": {
   "interpreter": {
    "hash": "25a19fbe0a9132dfb9279d48d161753c6352f8f9478c2e74383d340069b907c3"
   }
  }
 },
 "nbformat": 4,
 "nbformat_minor": 2
}
